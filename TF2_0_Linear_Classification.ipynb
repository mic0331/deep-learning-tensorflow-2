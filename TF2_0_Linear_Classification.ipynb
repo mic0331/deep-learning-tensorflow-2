{
  "nbformat": 4,
  "nbformat_minor": 0,
  "metadata": {
    "colab": {
      "name": "TF2.0 Linear Classification.ipynb",
      "version": "0.3.2",
      "provenance": [],
      "toc_visible": true,
      "include_colab_link": true
    },
    "kernelspec": {
      "name": "python3",
      "display_name": "Python 3"
    }
  },
  "cells": [
    {
      "cell_type": "markdown",
      "metadata": {
        "id": "view-in-github",
        "colab_type": "text"
      },
      "source": [
        "<a href=\"https://colab.research.google.com/github/mic0331/deep-learning-tensorflow-2/blob/master/TF2_0_Linear_Classification.ipynb\" target=\"_parent\"><img src=\"https://colab.research.google.com/assets/colab-badge.svg\" alt=\"Open In Colab\"/></a>"
      ]
    },
    {
      "cell_type": "code",
      "metadata": {
        "id": "2uKexCgeV-l_",
        "colab_type": "code",
        "outputId": "ee470cf0-3b6a-4650-f945-e12a6705c65c",
        "colab": {
          "base_uri": "https://localhost:8080/",
          "height": 119
        }
      },
      "source": [
        "# Install TensorFlow\n",
        "# !pip install -q tensorflow-gpu==2.0.0-beta1\n",
        "\n",
        "try:\n",
        "  %tensorflow_version 2.x  # Colab only.\n",
        "except Exception:\n",
        "  pass\n",
        "\n",
        "import tensorflow as tf\n",
        "print(tf.__version__)"
      ],
      "execution_count": 18,
      "outputs": [
        {
          "output_type": "stream",
          "text": [
            "`%tensorflow_version` only switches the major version: `1.x` or `2.x`.\n",
            "You set: `2.x  # Colab only.`. This will be interpreted as: `2.x`.\n",
            "\n",
            "\n",
            "TensorFlow is already loaded. Please restart the runtime to change versions.\n",
            "2.0.0-beta1\n"
          ],
          "name": "stdout"
        }
      ]
    },
    {
      "cell_type": "code",
      "metadata": {
        "id": "GFHSPY_aWMNw",
        "colab_type": "code",
        "colab": {}
      },
      "source": [
        "# load the data\n",
        "from sklearn.datasets import load_breast_cancer"
      ],
      "execution_count": 0,
      "outputs": []
    },
    {
      "cell_type": "code",
      "metadata": {
        "id": "axQIBVErWUMe",
        "colab_type": "code",
        "colab": {}
      },
      "source": [
        "# load the data\n",
        "data = load_breast_cancer()"
      ],
      "execution_count": 0,
      "outputs": []
    },
    {
      "cell_type": "code",
      "metadata": {
        "id": "xit8_JcCWZ8c",
        "colab_type": "code",
        "outputId": "d1163468-66a5-4c10-8318-660cedd34783",
        "colab": {
          "base_uri": "https://localhost:8080/",
          "height": 34
        }
      },
      "source": [
        "# check the type of `data` \n",
        "type(data)"
      ],
      "execution_count": 21,
      "outputs": [
        {
          "output_type": "execute_result",
          "data": {
            "text/plain": [
              "sklearn.utils.Bunch"
            ]
          },
          "metadata": {
            "tags": []
          },
          "execution_count": 21
        }
      ]
    },
    {
      "cell_type": "code",
      "metadata": {
        "id": "MXG1Jdk5Wm0T",
        "colab_type": "code",
        "outputId": "b4ea9f74-7861-424e-d37e-990c440d380c",
        "colab": {
          "base_uri": "https://localhost:8080/",
          "height": 34
        }
      },
      "source": [
        "# note: it is a Bunch object\n",
        "# this basically acts like a dictionary where you can treat the keys like attributes\n",
        "data.keys()"
      ],
      "execution_count": 22,
      "outputs": [
        {
          "output_type": "execute_result",
          "data": {
            "text/plain": [
              "dict_keys(['data', 'target', 'target_names', 'DESCR', 'feature_names', 'filename'])"
            ]
          },
          "metadata": {
            "tags": []
          },
          "execution_count": 22
        }
      ]
    },
    {
      "cell_type": "code",
      "metadata": {
        "id": "Q-bmRURQWpZ_",
        "colab_type": "code",
        "outputId": "c2cecc14-d771-404c-e1f6-6e1d5865a8d8",
        "colab": {
          "base_uri": "https://localhost:8080/",
          "height": 34
        }
      },
      "source": [
        "# 'data' (the attribute) means the input data\n",
        "data.data.shape\n",
        "# it has 569 samples, 30 features"
      ],
      "execution_count": 23,
      "outputs": [
        {
          "output_type": "execute_result",
          "data": {
            "text/plain": [
              "(569, 30)"
            ]
          },
          "metadata": {
            "tags": []
          },
          "execution_count": 23
        }
      ]
    },
    {
      "cell_type": "code",
      "metadata": {
        "id": "DQJlFgaaWr9K",
        "colab_type": "code",
        "outputId": "dacfc0e4-cab4-4fcb-8444-0d3ac5bfc3ae",
        "colab": {
          "base_uri": "https://localhost:8080/",
          "height": 459
        }
      },
      "source": [
        "# 'targets'\n",
        "data.target\n",
        "# note how the targets are just 0s and 1s\n",
        "# normally, when you have K targets, they are labeled 0..K-1"
      ],
      "execution_count": 24,
      "outputs": [
        {
          "output_type": "execute_result",
          "data": {
            "text/plain": [
              "array([0, 0, 0, 0, 0, 0, 0, 0, 0, 0, 0, 0, 0, 0, 0, 0, 0, 0, 0, 1, 1, 1,\n",
              "       0, 0, 0, 0, 0, 0, 0, 0, 0, 0, 0, 0, 0, 0, 0, 1, 0, 0, 0, 0, 0, 0,\n",
              "       0, 0, 1, 0, 1, 1, 1, 1, 1, 0, 0, 1, 0, 0, 1, 1, 1, 1, 0, 1, 0, 0,\n",
              "       1, 1, 1, 1, 0, 1, 0, 0, 1, 0, 1, 0, 0, 1, 1, 1, 0, 0, 1, 0, 0, 0,\n",
              "       1, 1, 1, 0, 1, 1, 0, 0, 1, 1, 1, 0, 0, 1, 1, 1, 1, 0, 1, 1, 0, 1,\n",
              "       1, 1, 1, 1, 1, 1, 1, 0, 0, 0, 1, 0, 0, 1, 1, 1, 0, 0, 1, 0, 1, 0,\n",
              "       0, 1, 0, 0, 1, 1, 0, 1, 1, 0, 1, 1, 1, 1, 0, 1, 1, 1, 1, 1, 1, 1,\n",
              "       1, 1, 0, 1, 1, 1, 1, 0, 0, 1, 0, 1, 1, 0, 0, 1, 1, 0, 0, 1, 1, 1,\n",
              "       1, 0, 1, 1, 0, 0, 0, 1, 0, 1, 0, 1, 1, 1, 0, 1, 1, 0, 0, 1, 0, 0,\n",
              "       0, 0, 1, 0, 0, 0, 1, 0, 1, 0, 1, 1, 0, 1, 0, 0, 0, 0, 1, 1, 0, 0,\n",
              "       1, 1, 1, 0, 1, 1, 1, 1, 1, 0, 0, 1, 1, 0, 1, 1, 0, 0, 1, 0, 1, 1,\n",
              "       1, 1, 0, 1, 1, 1, 1, 1, 0, 1, 0, 0, 0, 0, 0, 0, 0, 0, 0, 0, 0, 0,\n",
              "       0, 0, 1, 1, 1, 1, 1, 1, 0, 1, 0, 1, 1, 0, 1, 1, 0, 1, 0, 0, 1, 1,\n",
              "       1, 1, 1, 1, 1, 1, 1, 1, 1, 1, 1, 0, 1, 1, 0, 1, 0, 1, 1, 1, 1, 1,\n",
              "       1, 1, 1, 1, 1, 1, 1, 1, 1, 0, 1, 1, 1, 0, 1, 0, 1, 1, 1, 1, 0, 0,\n",
              "       0, 1, 1, 1, 1, 0, 1, 0, 1, 0, 1, 1, 1, 0, 1, 1, 1, 1, 1, 1, 1, 0,\n",
              "       0, 0, 1, 1, 1, 1, 1, 1, 1, 1, 1, 1, 1, 0, 0, 1, 0, 0, 0, 1, 0, 0,\n",
              "       1, 1, 1, 1, 1, 0, 1, 1, 1, 1, 1, 0, 1, 1, 1, 0, 1, 1, 0, 0, 1, 1,\n",
              "       1, 1, 1, 1, 0, 1, 1, 1, 1, 1, 1, 1, 0, 1, 1, 1, 1, 1, 0, 1, 1, 0,\n",
              "       1, 1, 1, 1, 1, 1, 1, 1, 1, 1, 1, 1, 0, 1, 0, 0, 1, 0, 1, 1, 1, 1,\n",
              "       1, 0, 1, 1, 0, 1, 0, 1, 1, 0, 1, 0, 1, 1, 1, 1, 1, 1, 1, 1, 0, 0,\n",
              "       1, 1, 1, 1, 1, 1, 0, 1, 1, 1, 1, 1, 1, 1, 1, 1, 1, 0, 1, 1, 1, 1,\n",
              "       1, 1, 1, 0, 1, 0, 1, 1, 0, 1, 1, 1, 1, 1, 0, 0, 1, 0, 1, 0, 1, 1,\n",
              "       1, 1, 1, 0, 1, 1, 0, 1, 0, 1, 0, 0, 1, 1, 1, 0, 1, 1, 1, 1, 1, 1,\n",
              "       1, 1, 1, 1, 1, 0, 1, 0, 0, 1, 1, 1, 1, 1, 1, 1, 1, 1, 1, 1, 1, 1,\n",
              "       1, 1, 1, 1, 1, 1, 1, 1, 1, 1, 1, 1, 0, 0, 0, 0, 0, 0, 1])"
            ]
          },
          "metadata": {
            "tags": []
          },
          "execution_count": 24
        }
      ]
    },
    {
      "cell_type": "code",
      "metadata": {
        "id": "iFvTknwuW6Nk",
        "colab_type": "code",
        "outputId": "3a6f9401-7a57-409c-9087-2c71fb879f09",
        "colab": {
          "base_uri": "https://localhost:8080/",
          "height": 34
        }
      },
      "source": [
        "# their meaning is not lost\n",
        "data.target_names"
      ],
      "execution_count": 25,
      "outputs": [
        {
          "output_type": "execute_result",
          "data": {
            "text/plain": [
              "array(['malignant', 'benign'], dtype='<U9')"
            ]
          },
          "metadata": {
            "tags": []
          },
          "execution_count": 25
        }
      ]
    },
    {
      "cell_type": "code",
      "metadata": {
        "id": "IWbKNZ4BW-3L",
        "colab_type": "code",
        "outputId": "5fd958d5-f0cd-486f-ce29-4b6f725a33d8",
        "colab": {
          "base_uri": "https://localhost:8080/",
          "height": 34
        }
      },
      "source": [
        "# there are also 569 corresponding targets\n",
        "data.target.shape"
      ],
      "execution_count": 26,
      "outputs": [
        {
          "output_type": "execute_result",
          "data": {
            "text/plain": [
              "(569,)"
            ]
          },
          "metadata": {
            "tags": []
          },
          "execution_count": 26
        }
      ]
    },
    {
      "cell_type": "code",
      "metadata": {
        "id": "GGi6rINbXFOE",
        "colab_type": "code",
        "outputId": "69dcde6a-8e1b-4ca0-ada8-6f4fd8f0da48",
        "colab": {
          "base_uri": "https://localhost:8080/",
          "height": 187
        }
      },
      "source": [
        "# you can also determine the meaning of each feature\n",
        "data.feature_names"
      ],
      "execution_count": 27,
      "outputs": [
        {
          "output_type": "execute_result",
          "data": {
            "text/plain": [
              "array(['mean radius', 'mean texture', 'mean perimeter', 'mean area',\n",
              "       'mean smoothness', 'mean compactness', 'mean concavity',\n",
              "       'mean concave points', 'mean symmetry', 'mean fractal dimension',\n",
              "       'radius error', 'texture error', 'perimeter error', 'area error',\n",
              "       'smoothness error', 'compactness error', 'concavity error',\n",
              "       'concave points error', 'symmetry error',\n",
              "       'fractal dimension error', 'worst radius', 'worst texture',\n",
              "       'worst perimeter', 'worst area', 'worst smoothness',\n",
              "       'worst compactness', 'worst concavity', 'worst concave points',\n",
              "       'worst symmetry', 'worst fractal dimension'], dtype='<U23')"
            ]
          },
          "metadata": {
            "tags": []
          },
          "execution_count": 27
        }
      ]
    },
    {
      "cell_type": "code",
      "metadata": {
        "id": "tLvVL5b3XQ7g",
        "colab_type": "code",
        "colab": {}
      },
      "source": [
        "from sklearn.model_selection import train_test_split\n",
        "\n",
        "# split the data into train and test sets\n",
        "# this lets us simulate how our model will perform in the future\n",
        "X_train, X_test, y_train, y_test = train_test_split(data.data, data.target, test_size=0.33)\n",
        "N, D = X_train.shape"
      ],
      "execution_count": 0,
      "outputs": []
    },
    {
      "cell_type": "code",
      "metadata": {
        "id": "aEcU41YcXnJD",
        "colab_type": "code",
        "colab": {}
      },
      "source": [
        "# Scale the data\n",
        "from sklearn.preprocessing import StandardScaler\n",
        "\n",
        "scaler = StandardScaler()\n",
        "X_train = scaler.fit_transform(X_train)\n",
        "X_test = scaler.transform(X_test)"
      ],
      "execution_count": 0,
      "outputs": []
    },
    {
      "cell_type": "code",
      "metadata": {
        "id": "FRw3OAP4X036",
        "colab_type": "code",
        "outputId": "c73274ee-01f3-4427-99a9-fbf2e403a37f",
        "colab": {
          "base_uri": "https://localhost:8080/",
          "height": 1000
        }
      },
      "source": [
        "# Build the model\n",
        "model = tf.keras.models.Sequential([\n",
        "    tf.keras.layers.Input(shape=(D,)),\n",
        "    tf.keras.layers.Dense(1, activation='sigmoid')\n",
        "])\n",
        "\n",
        "# Alternatively, you can do:\n",
        "#model = tf.keras.models.Sequential()\n",
        "#model.add(tf.keras.layers.Dense(1, input_shape=(D,), activation='sigmoid'))\n",
        "\n",
        "model.compile(optimizer='adam',\n",
        "              loss='binary_crossentropy',\n",
        "              metrics=['accuracy'])\n",
        "\n",
        "# Train the model\n",
        "r = model.fit(X_train, y_train, validation_data=(X_test, y_test), epochs=100)"
      ],
      "execution_count": 30,
      "outputs": [
        {
          "output_type": "stream",
          "text": [
            "Train on 381 samples, validate on 188 samples\n",
            "Epoch 1/100\n",
            "381/381 [==============================] - 0s 674us/sample - loss: 1.5990 - accuracy: 0.2100 - val_loss: 1.4978 - val_accuracy: 0.1277\n",
            "Epoch 2/100\n",
            "381/381 [==============================] - 0s 76us/sample - loss: 1.4721 - accuracy: 0.2283 - val_loss: 1.3683 - val_accuracy: 0.1436\n",
            "Epoch 3/100\n",
            "381/381 [==============================] - 0s 74us/sample - loss: 1.3560 - accuracy: 0.2441 - val_loss: 1.2452 - val_accuracy: 0.1702\n",
            "Epoch 4/100\n",
            "381/381 [==============================] - 0s 97us/sample - loss: 1.2428 - accuracy: 0.2808 - val_loss: 1.1341 - val_accuracy: 0.2340\n",
            "Epoch 5/100\n",
            "381/381 [==============================] - 0s 71us/sample - loss: 1.1395 - accuracy: 0.3202 - val_loss: 1.0345 - val_accuracy: 0.3085\n",
            "Epoch 6/100\n",
            "381/381 [==============================] - 0s 73us/sample - loss: 1.0494 - accuracy: 0.3517 - val_loss: 0.9428 - val_accuracy: 0.3723\n",
            "Epoch 7/100\n",
            "381/381 [==============================] - 0s 73us/sample - loss: 0.9641 - accuracy: 0.4304 - val_loss: 0.8628 - val_accuracy: 0.4574\n",
            "Epoch 8/100\n",
            "381/381 [==============================] - 0s 79us/sample - loss: 0.8904 - accuracy: 0.4619 - val_loss: 0.7907 - val_accuracy: 0.5319\n",
            "Epoch 9/100\n",
            "381/381 [==============================] - 0s 99us/sample - loss: 0.8238 - accuracy: 0.4987 - val_loss: 0.7273 - val_accuracy: 0.6223\n",
            "Epoch 10/100\n",
            "381/381 [==============================] - 0s 76us/sample - loss: 0.7649 - accuracy: 0.5459 - val_loss: 0.6718 - val_accuracy: 0.6702\n",
            "Epoch 11/100\n",
            "381/381 [==============================] - 0s 77us/sample - loss: 0.7125 - accuracy: 0.5827 - val_loss: 0.6235 - val_accuracy: 0.7021\n",
            "Epoch 12/100\n",
            "381/381 [==============================] - 0s 80us/sample - loss: 0.6672 - accuracy: 0.6352 - val_loss: 0.5804 - val_accuracy: 0.7340\n",
            "Epoch 13/100\n",
            "381/381 [==============================] - 0s 82us/sample - loss: 0.6267 - accuracy: 0.6667 - val_loss: 0.5426 - val_accuracy: 0.7660\n",
            "Epoch 14/100\n",
            "381/381 [==============================] - 0s 84us/sample - loss: 0.5912 - accuracy: 0.7087 - val_loss: 0.5090 - val_accuracy: 0.7819\n",
            "Epoch 15/100\n",
            "381/381 [==============================] - 0s 76us/sample - loss: 0.5592 - accuracy: 0.7559 - val_loss: 0.4790 - val_accuracy: 0.7979\n",
            "Epoch 16/100\n",
            "381/381 [==============================] - 0s 92us/sample - loss: 0.5308 - accuracy: 0.7769 - val_loss: 0.4522 - val_accuracy: 0.8138\n",
            "Epoch 17/100\n",
            "381/381 [==============================] - 0s 82us/sample - loss: 0.5047 - accuracy: 0.7900 - val_loss: 0.4294 - val_accuracy: 0.8245\n",
            "Epoch 18/100\n",
            "381/381 [==============================] - 0s 79us/sample - loss: 0.4822 - accuracy: 0.8136 - val_loss: 0.4076 - val_accuracy: 0.8404\n",
            "Epoch 19/100\n",
            "381/381 [==============================] - 0s 70us/sample - loss: 0.4610 - accuracy: 0.8215 - val_loss: 0.3886 - val_accuracy: 0.8564\n",
            "Epoch 20/100\n",
            "381/381 [==============================] - 0s 80us/sample - loss: 0.4422 - accuracy: 0.8320 - val_loss: 0.3713 - val_accuracy: 0.8723\n",
            "Epoch 21/100\n",
            "381/381 [==============================] - 0s 104us/sample - loss: 0.4248 - accuracy: 0.8478 - val_loss: 0.3553 - val_accuracy: 0.8723\n",
            "Epoch 22/100\n",
            "381/381 [==============================] - 0s 76us/sample - loss: 0.4089 - accuracy: 0.8609 - val_loss: 0.3411 - val_accuracy: 0.8777\n",
            "Epoch 23/100\n",
            "381/381 [==============================] - 0s 81us/sample - loss: 0.3946 - accuracy: 0.8714 - val_loss: 0.3276 - val_accuracy: 0.8883\n",
            "Epoch 24/100\n",
            "381/381 [==============================] - 0s 95us/sample - loss: 0.3809 - accuracy: 0.8766 - val_loss: 0.3153 - val_accuracy: 0.8936\n",
            "Epoch 25/100\n",
            "381/381 [==============================] - 0s 96us/sample - loss: 0.3684 - accuracy: 0.8898 - val_loss: 0.3039 - val_accuracy: 0.9043\n",
            "Epoch 26/100\n",
            "381/381 [==============================] - 0s 74us/sample - loss: 0.3569 - accuracy: 0.8950 - val_loss: 0.2935 - val_accuracy: 0.9043\n",
            "Epoch 27/100\n",
            "381/381 [==============================] - 0s 76us/sample - loss: 0.3460 - accuracy: 0.8976 - val_loss: 0.2839 - val_accuracy: 0.9096\n",
            "Epoch 28/100\n",
            "381/381 [==============================] - 0s 81us/sample - loss: 0.3359 - accuracy: 0.9055 - val_loss: 0.2749 - val_accuracy: 0.9202\n",
            "Epoch 29/100\n",
            "381/381 [==============================] - 0s 78us/sample - loss: 0.3265 - accuracy: 0.9055 - val_loss: 0.2665 - val_accuracy: 0.9202\n",
            "Epoch 30/100\n",
            "381/381 [==============================] - 0s 77us/sample - loss: 0.3175 - accuracy: 0.9081 - val_loss: 0.2588 - val_accuracy: 0.9202\n",
            "Epoch 31/100\n",
            "381/381 [==============================] - 0s 73us/sample - loss: 0.3093 - accuracy: 0.9134 - val_loss: 0.2514 - val_accuracy: 0.9255\n",
            "Epoch 32/100\n",
            "381/381 [==============================] - 0s 73us/sample - loss: 0.3013 - accuracy: 0.9186 - val_loss: 0.2447 - val_accuracy: 0.9255\n",
            "Epoch 33/100\n",
            "381/381 [==============================] - 0s 72us/sample - loss: 0.2938 - accuracy: 0.9213 - val_loss: 0.2381 - val_accuracy: 0.9255\n",
            "Epoch 34/100\n",
            "381/381 [==============================] - 0s 76us/sample - loss: 0.2868 - accuracy: 0.9265 - val_loss: 0.2319 - val_accuracy: 0.9309\n",
            "Epoch 35/100\n",
            "381/381 [==============================] - 0s 70us/sample - loss: 0.2801 - accuracy: 0.9265 - val_loss: 0.2261 - val_accuracy: 0.9362\n",
            "Epoch 36/100\n",
            "381/381 [==============================] - 0s 75us/sample - loss: 0.2739 - accuracy: 0.9265 - val_loss: 0.2206 - val_accuracy: 0.9415\n",
            "Epoch 37/100\n",
            "381/381 [==============================] - 0s 72us/sample - loss: 0.2677 - accuracy: 0.9291 - val_loss: 0.2155 - val_accuracy: 0.9415\n",
            "Epoch 38/100\n",
            "381/381 [==============================] - 0s 73us/sample - loss: 0.2619 - accuracy: 0.9291 - val_loss: 0.2106 - val_accuracy: 0.9468\n",
            "Epoch 39/100\n",
            "381/381 [==============================] - 0s 72us/sample - loss: 0.2567 - accuracy: 0.9291 - val_loss: 0.2059 - val_accuracy: 0.9521\n",
            "Epoch 40/100\n",
            "381/381 [==============================] - 0s 70us/sample - loss: 0.2513 - accuracy: 0.9291 - val_loss: 0.2015 - val_accuracy: 0.9521\n",
            "Epoch 41/100\n",
            "381/381 [==============================] - 0s 73us/sample - loss: 0.2463 - accuracy: 0.9291 - val_loss: 0.1974 - val_accuracy: 0.9521\n",
            "Epoch 42/100\n",
            "381/381 [==============================] - 0s 78us/sample - loss: 0.2417 - accuracy: 0.9318 - val_loss: 0.1934 - val_accuracy: 0.9521\n",
            "Epoch 43/100\n",
            "381/381 [==============================] - 0s 78us/sample - loss: 0.2371 - accuracy: 0.9318 - val_loss: 0.1896 - val_accuracy: 0.9574\n",
            "Epoch 44/100\n",
            "381/381 [==============================] - 0s 73us/sample - loss: 0.2327 - accuracy: 0.9318 - val_loss: 0.1860 - val_accuracy: 0.9628\n",
            "Epoch 45/100\n",
            "381/381 [==============================] - 0s 75us/sample - loss: 0.2287 - accuracy: 0.9344 - val_loss: 0.1825 - val_accuracy: 0.9628\n",
            "Epoch 46/100\n",
            "381/381 [==============================] - 0s 72us/sample - loss: 0.2246 - accuracy: 0.9370 - val_loss: 0.1792 - val_accuracy: 0.9628\n",
            "Epoch 47/100\n",
            "381/381 [==============================] - 0s 75us/sample - loss: 0.2209 - accuracy: 0.9370 - val_loss: 0.1761 - val_accuracy: 0.9628\n",
            "Epoch 48/100\n",
            "381/381 [==============================] - 0s 73us/sample - loss: 0.2172 - accuracy: 0.9344 - val_loss: 0.1730 - val_accuracy: 0.9628\n",
            "Epoch 49/100\n",
            "381/381 [==============================] - 0s 78us/sample - loss: 0.2137 - accuracy: 0.9370 - val_loss: 0.1702 - val_accuracy: 0.9628\n",
            "Epoch 50/100\n",
            "381/381 [==============================] - 0s 75us/sample - loss: 0.2103 - accuracy: 0.9396 - val_loss: 0.1674 - val_accuracy: 0.9628\n",
            "Epoch 51/100\n",
            "381/381 [==============================] - 0s 71us/sample - loss: 0.2072 - accuracy: 0.9423 - val_loss: 0.1647 - val_accuracy: 0.9628\n",
            "Epoch 52/100\n",
            "381/381 [==============================] - 0s 71us/sample - loss: 0.2039 - accuracy: 0.9423 - val_loss: 0.1621 - val_accuracy: 0.9681\n",
            "Epoch 53/100\n",
            "381/381 [==============================] - 0s 73us/sample - loss: 0.2009 - accuracy: 0.9423 - val_loss: 0.1596 - val_accuracy: 0.9681\n",
            "Epoch 54/100\n",
            "381/381 [==============================] - 0s 74us/sample - loss: 0.1981 - accuracy: 0.9423 - val_loss: 0.1573 - val_accuracy: 0.9734\n",
            "Epoch 55/100\n",
            "381/381 [==============================] - 0s 73us/sample - loss: 0.1954 - accuracy: 0.9423 - val_loss: 0.1551 - val_accuracy: 0.9734\n",
            "Epoch 56/100\n",
            "381/381 [==============================] - 0s 71us/sample - loss: 0.1927 - accuracy: 0.9449 - val_loss: 0.1529 - val_accuracy: 0.9734\n",
            "Epoch 57/100\n",
            "381/381 [==============================] - 0s 73us/sample - loss: 0.1900 - accuracy: 0.9449 - val_loss: 0.1507 - val_accuracy: 0.9734\n",
            "Epoch 58/100\n",
            "381/381 [==============================] - 0s 113us/sample - loss: 0.1877 - accuracy: 0.9501 - val_loss: 0.1486 - val_accuracy: 0.9734\n",
            "Epoch 59/100\n",
            "381/381 [==============================] - 0s 86us/sample - loss: 0.1852 - accuracy: 0.9501 - val_loss: 0.1466 - val_accuracy: 0.9734\n",
            "Epoch 60/100\n",
            "381/381 [==============================] - 0s 89us/sample - loss: 0.1829 - accuracy: 0.9554 - val_loss: 0.1447 - val_accuracy: 0.9734\n",
            "Epoch 61/100\n",
            "381/381 [==============================] - 0s 91us/sample - loss: 0.1807 - accuracy: 0.9554 - val_loss: 0.1428 - val_accuracy: 0.9734\n",
            "Epoch 62/100\n",
            "381/381 [==============================] - 0s 80us/sample - loss: 0.1785 - accuracy: 0.9554 - val_loss: 0.1411 - val_accuracy: 0.9734\n",
            "Epoch 63/100\n",
            "381/381 [==============================] - 0s 74us/sample - loss: 0.1765 - accuracy: 0.9554 - val_loss: 0.1394 - val_accuracy: 0.9734\n",
            "Epoch 64/100\n",
            "381/381 [==============================] - 0s 79us/sample - loss: 0.1745 - accuracy: 0.9554 - val_loss: 0.1377 - val_accuracy: 0.9734\n",
            "Epoch 65/100\n",
            "381/381 [==============================] - 0s 70us/sample - loss: 0.1725 - accuracy: 0.9554 - val_loss: 0.1361 - val_accuracy: 0.9734\n",
            "Epoch 66/100\n",
            "381/381 [==============================] - 0s 71us/sample - loss: 0.1707 - accuracy: 0.9554 - val_loss: 0.1346 - val_accuracy: 0.9734\n",
            "Epoch 67/100\n",
            "381/381 [==============================] - 0s 81us/sample - loss: 0.1689 - accuracy: 0.9554 - val_loss: 0.1331 - val_accuracy: 0.9734\n",
            "Epoch 68/100\n",
            "381/381 [==============================] - 0s 84us/sample - loss: 0.1673 - accuracy: 0.9580 - val_loss: 0.1315 - val_accuracy: 0.9734\n",
            "Epoch 69/100\n",
            "381/381 [==============================] - 0s 72us/sample - loss: 0.1655 - accuracy: 0.9606 - val_loss: 0.1301 - val_accuracy: 0.9734\n",
            "Epoch 70/100\n",
            "381/381 [==============================] - 0s 75us/sample - loss: 0.1638 - accuracy: 0.9606 - val_loss: 0.1288 - val_accuracy: 0.9787\n",
            "Epoch 71/100\n",
            "381/381 [==============================] - 0s 86us/sample - loss: 0.1623 - accuracy: 0.9606 - val_loss: 0.1274 - val_accuracy: 0.9787\n",
            "Epoch 72/100\n",
            "381/381 [==============================] - 0s 95us/sample - loss: 0.1607 - accuracy: 0.9606 - val_loss: 0.1262 - val_accuracy: 0.9787\n",
            "Epoch 73/100\n",
            "381/381 [==============================] - 0s 81us/sample - loss: 0.1592 - accuracy: 0.9606 - val_loss: 0.1248 - val_accuracy: 0.9787\n",
            "Epoch 74/100\n",
            "381/381 [==============================] - 0s 81us/sample - loss: 0.1579 - accuracy: 0.9606 - val_loss: 0.1236 - val_accuracy: 0.9787\n",
            "Epoch 75/100\n",
            "381/381 [==============================] - 0s 77us/sample - loss: 0.1564 - accuracy: 0.9633 - val_loss: 0.1224 - val_accuracy: 0.9787\n",
            "Epoch 76/100\n",
            "381/381 [==============================] - 0s 89us/sample - loss: 0.1551 - accuracy: 0.9633 - val_loss: 0.1213 - val_accuracy: 0.9787\n",
            "Epoch 77/100\n",
            "381/381 [==============================] - 0s 75us/sample - loss: 0.1537 - accuracy: 0.9633 - val_loss: 0.1201 - val_accuracy: 0.9787\n",
            "Epoch 78/100\n",
            "381/381 [==============================] - 0s 78us/sample - loss: 0.1525 - accuracy: 0.9633 - val_loss: 0.1190 - val_accuracy: 0.9787\n",
            "Epoch 79/100\n",
            "381/381 [==============================] - 0s 82us/sample - loss: 0.1512 - accuracy: 0.9633 - val_loss: 0.1179 - val_accuracy: 0.9787\n",
            "Epoch 80/100\n",
            "381/381 [==============================] - 0s 77us/sample - loss: 0.1501 - accuracy: 0.9633 - val_loss: 0.1169 - val_accuracy: 0.9787\n",
            "Epoch 81/100\n",
            "381/381 [==============================] - 0s 75us/sample - loss: 0.1489 - accuracy: 0.9633 - val_loss: 0.1159 - val_accuracy: 0.9787\n",
            "Epoch 82/100\n",
            "381/381 [==============================] - 0s 81us/sample - loss: 0.1478 - accuracy: 0.9633 - val_loss: 0.1149 - val_accuracy: 0.9787\n",
            "Epoch 83/100\n",
            "381/381 [==============================] - 0s 69us/sample - loss: 0.1466 - accuracy: 0.9633 - val_loss: 0.1139 - val_accuracy: 0.9787\n",
            "Epoch 84/100\n",
            "381/381 [==============================] - 0s 77us/sample - loss: 0.1456 - accuracy: 0.9633 - val_loss: 0.1129 - val_accuracy: 0.9787\n",
            "Epoch 85/100\n",
            "381/381 [==============================] - 0s 72us/sample - loss: 0.1446 - accuracy: 0.9633 - val_loss: 0.1120 - val_accuracy: 0.9787\n",
            "Epoch 86/100\n",
            "381/381 [==============================] - 0s 68us/sample - loss: 0.1435 - accuracy: 0.9633 - val_loss: 0.1112 - val_accuracy: 0.9787\n",
            "Epoch 87/100\n",
            "381/381 [==============================] - 0s 78us/sample - loss: 0.1425 - accuracy: 0.9633 - val_loss: 0.1102 - val_accuracy: 0.9787\n",
            "Epoch 88/100\n",
            "381/381 [==============================] - 0s 86us/sample - loss: 0.1415 - accuracy: 0.9633 - val_loss: 0.1094 - val_accuracy: 0.9787\n",
            "Epoch 89/100\n",
            "381/381 [==============================] - 0s 74us/sample - loss: 0.1406 - accuracy: 0.9633 - val_loss: 0.1085 - val_accuracy: 0.9787\n",
            "Epoch 90/100\n",
            "381/381 [==============================] - 0s 95us/sample - loss: 0.1397 - accuracy: 0.9633 - val_loss: 0.1077 - val_accuracy: 0.9787\n",
            "Epoch 91/100\n",
            "381/381 [==============================] - 0s 89us/sample - loss: 0.1388 - accuracy: 0.9633 - val_loss: 0.1069 - val_accuracy: 0.9787\n",
            "Epoch 92/100\n",
            "381/381 [==============================] - 0s 73us/sample - loss: 0.1379 - accuracy: 0.9633 - val_loss: 0.1062 - val_accuracy: 0.9787\n",
            "Epoch 93/100\n",
            "381/381 [==============================] - 0s 79us/sample - loss: 0.1370 - accuracy: 0.9633 - val_loss: 0.1054 - val_accuracy: 0.9787\n",
            "Epoch 94/100\n",
            "381/381 [==============================] - 0s 80us/sample - loss: 0.1362 - accuracy: 0.9633 - val_loss: 0.1046 - val_accuracy: 0.9787\n",
            "Epoch 95/100\n",
            "381/381 [==============================] - 0s 75us/sample - loss: 0.1354 - accuracy: 0.9633 - val_loss: 0.1039 - val_accuracy: 0.9787\n",
            "Epoch 96/100\n",
            "381/381 [==============================] - 0s 73us/sample - loss: 0.1346 - accuracy: 0.9633 - val_loss: 0.1032 - val_accuracy: 0.9787\n",
            "Epoch 97/100\n",
            "381/381 [==============================] - 0s 82us/sample - loss: 0.1339 - accuracy: 0.9633 - val_loss: 0.1025 - val_accuracy: 0.9787\n",
            "Epoch 98/100\n",
            "381/381 [==============================] - 0s 89us/sample - loss: 0.1331 - accuracy: 0.9633 - val_loss: 0.1017 - val_accuracy: 0.9787\n",
            "Epoch 99/100\n",
            "381/381 [==============================] - 0s 83us/sample - loss: 0.1323 - accuracy: 0.9633 - val_loss: 0.1011 - val_accuracy: 0.9787\n",
            "Epoch 100/100\n",
            "381/381 [==============================] - 0s 79us/sample - loss: 0.1316 - accuracy: 0.9633 - val_loss: 0.1004 - val_accuracy: 0.9787\n"
          ],
          "name": "stdout"
        }
      ]
    },
    {
      "cell_type": "code",
      "metadata": {
        "id": "qevAh3knY03c",
        "colab_type": "code",
        "outputId": "281858a7-5c64-4d97-c43a-21a485cd2d24",
        "colab": {
          "base_uri": "https://localhost:8080/",
          "height": 286
        }
      },
      "source": [
        "# Evaluate what's returned by model.fit()\n",
        "import matplotlib.pyplot as plt\n",
        "plt.plot(r.history['loss'], label='loss')\n",
        "plt.plot(r.history['val_loss'], label='val_loss')\n",
        "plt.legend()"
      ],
      "execution_count": 31,
      "outputs": [
        {
          "output_type": "execute_result",
          "data": {
            "text/plain": [
              "<matplotlib.legend.Legend at 0x7f0ca99c1d30>"
            ]
          },
          "metadata": {
            "tags": []
          },
          "execution_count": 31
        },
        {
          "output_type": "display_data",
          "data": {
            "image/png": "[encoded data removed]",
            "text/plain": [
              "<Figure size 432x288 with 1 Axes>"
            ]
          },
          "metadata": {
            "tags": []
          }
        }
      ]
    },
    {
      "cell_type": "code",
      "metadata": {
        "id": "8NUlpAtPZQTx",
        "colab_type": "code",
        "outputId": "73b3f113-de60-47e8-e116-15eb5c74de09",
        "colab": {
          "base_uri": "https://localhost:8080/",
          "height": 286
        }
      },
      "source": [
        "# Plot the accuracy too\n",
        "plt.plot(r.history['accuracy'], label='acc')\n",
        "plt.plot(r.history['val_accuracy'], label='val_acc')\n",
        "plt.legend()"
      ],
      "execution_count": 32,
      "outputs": [
        {
          "output_type": "execute_result",
          "data": {
            "text/plain": [
              "<matplotlib.legend.Legend at 0x7f0ca99b04e0>"
            ]
          },
          "metadata": {
            "tags": []
          },
          "execution_count": 32
        },
        {
          "output_type": "display_data",
          "data": {
            "image/png": "[encoded data removed]",
            "text/plain": [
              "<Figure size 432x288 with 1 Axes>"
            ]
          },
          "metadata": {
            "tags": []
          }
        }
      ]
    },
    {
      "cell_type": "markdown",
      "metadata": {
        "id": "TK49aaeMmtWo",
        "colab_type": "text"
      },
      "source": [
        "# Part 2: Making Predictions"
      ]
    },
    {
      "cell_type": "code",
      "metadata": {
        "id": "6W4P73XZmqdF",
        "colab_type": "code",
        "colab": {
          "base_uri": "https://localhost:8080/",
          "height": 1000
        },
        "outputId": "9566a49a-6ceb-4841-881e-30119263a68c"
      },
      "source": [
        "# Make predictions\n",
        "P = model.predict(X_test)\n",
        "print(P) # they are outputs of the sigmoid, interpreted as probabilities p(y = 1 | x)"
      ],
      "execution_count": 33,
      "outputs": [
        {
          "output_type": "stream",
          "text": [
            "[[9.95634675e-01]\n",
            " [8.53578269e-01]\n",
            " [9.80750263e-01]\n",
            " [1.04948878e-03]\n",
            " [9.97470200e-01]\n",
            " [7.13147938e-01]\n",
            " [9.97585893e-01]\n",
            " [9.70178843e-01]\n",
            " [1.88648701e-05]\n",
            " [5.73891401e-03]\n",
            " [9.30439472e-01]\n",
            " [9.95398462e-01]\n",
            " [9.97705102e-01]\n",
            " [9.79681134e-01]\n",
            " [1.55568123e-04]\n",
            " [9.93834019e-01]\n",
            " [4.24754322e-01]\n",
            " [9.94263887e-01]\n",
            " [8.18398654e-01]\n",
            " [9.97120380e-01]\n",
            " [9.61253762e-01]\n",
            " [9.64709520e-02]\n",
            " [1.45212412e-02]\n",
            " [2.10094452e-03]\n",
            " [9.89977598e-01]\n",
            " [9.12945628e-01]\n",
            " [4.10071015e-03]\n",
            " [9.92980361e-01]\n",
            " [1.10828876e-01]\n",
            " [1.66952014e-02]\n",
            " [8.87334347e-03]\n",
            " [5.04116416e-02]\n",
            " [2.96184421e-03]\n",
            " [1.31531477e-01]\n",
            " [9.79008198e-01]\n",
            " [9.89788651e-01]\n",
            " [9.59603786e-01]\n",
            " [9.98583615e-01]\n",
            " [9.68000531e-01]\n",
            " [2.15241224e-01]\n",
            " [9.84939694e-01]\n",
            " [4.38004732e-04]\n",
            " [1.27042711e-01]\n",
            " [9.76552248e-01]\n",
            " [6.30170107e-03]\n",
            " [4.19488549e-03]\n",
            " [8.80793512e-01]\n",
            " [9.48599339e-01]\n",
            " [9.95938778e-01]\n",
            " [1.10763609e-01]\n",
            " [7.22929120e-01]\n",
            " [9.86760497e-01]\n",
            " [9.72992539e-01]\n",
            " [9.94665325e-01]\n",
            " [9.33727920e-01]\n",
            " [1.51687741e-01]\n",
            " [8.84775400e-01]\n",
            " [1.65641308e-04]\n",
            " [7.15255737e-07]\n",
            " [9.72058296e-01]\n",
            " [9.74915624e-01]\n",
            " [9.74401414e-01]\n",
            " [3.29825073e-01]\n",
            " [9.78621483e-01]\n",
            " [9.92134154e-01]\n",
            " [7.80463219e-04]\n",
            " [2.84445286e-03]\n",
            " [9.19900298e-01]\n",
            " [9.89060879e-01]\n",
            " [8.31186116e-01]\n",
            " [8.21880639e-01]\n",
            " [8.26556265e-01]\n",
            " [9.69809175e-01]\n",
            " [4.86603677e-02]\n",
            " [9.67504203e-01]\n",
            " [7.53407836e-01]\n",
            " [1.10268593e-06]\n",
            " [6.98904514e-01]\n",
            " [5.87917805e-01]\n",
            " [9.65493381e-01]\n",
            " [9.81151819e-01]\n",
            " [9.98878717e-01]\n",
            " [8.90590310e-01]\n",
            " [8.70888770e-01]\n",
            " [1.04774475e-01]\n",
            " [9.38562453e-01]\n",
            " [9.49795961e-01]\n",
            " [2.39935517e-03]\n",
            " [9.82727051e-01]\n",
            " [9.90155816e-01]\n",
            " [9.81309712e-01]\n",
            " [7.25518942e-01]\n",
            " [9.83639300e-01]\n",
            " [9.99166131e-01]\n",
            " [9.96061802e-01]\n",
            " [9.84085619e-01]\n",
            " [9.62193906e-01]\n",
            " [9.96738970e-01]\n",
            " [9.19644594e-01]\n",
            " [9.93800759e-01]\n",
            " [9.82740521e-01]\n",
            " [9.76714253e-01]\n",
            " [1.56164169e-05]\n",
            " [2.40683556e-03]\n",
            " [8.83221626e-04]\n",
            " [9.97816086e-01]\n",
            " [9.74196911e-01]\n",
            " [9.97769058e-01]\n",
            " [9.51077342e-01]\n",
            " [9.93754983e-01]\n",
            " [5.79711616e-01]\n",
            " [9.21809793e-01]\n",
            " [6.27954245e-01]\n",
            " [2.98970222e-01]\n",
            " [9.95451331e-01]\n",
            " [7.27301836e-03]\n",
            " [9.95009780e-01]\n",
            " [3.34380567e-02]\n",
            " [9.91700768e-01]\n",
            " [9.97135222e-01]\n",
            " [9.87088978e-01]\n",
            " [9.08073783e-03]\n",
            " [4.40058112e-03]\n",
            " [4.47408974e-01]\n",
            " [7.68825412e-01]\n",
            " [1.19057238e-01]\n",
            " [9.51661766e-01]\n",
            " [7.49409199e-04]\n",
            " [9.91679549e-01]\n",
            " [9.86782610e-01]\n",
            " [8.96600485e-01]\n",
            " [9.87118363e-01]\n",
            " [9.30288732e-01]\n",
            " [9.30759013e-02]\n",
            " [3.64880562e-02]\n",
            " [1.53656900e-02]\n",
            " [1.18315220e-05]\n",
            " [5.41394889e-01]\n",
            " [9.95606542e-01]\n",
            " [9.24080789e-01]\n",
            " [9.98772502e-01]\n",
            " [1.62239969e-02]\n",
            " [4.09897029e-01]\n",
            " [3.86267900e-04]\n",
            " [9.81815934e-01]\n",
            " [9.69207525e-01]\n",
            " [9.23709154e-01]\n",
            " [1.72273219e-02]\n",
            " [2.56807804e-01]\n",
            " [9.97170746e-01]\n",
            " [1.76787376e-04]\n",
            " [9.80223715e-01]\n",
            " [1.71560049e-03]\n",
            " [9.85202312e-01]\n",
            " [4.66456980e-01]\n",
            " [9.84363377e-01]\n",
            " [2.35783577e-01]\n",
            " [1.12847894e-01]\n",
            " [4.84228134e-04]\n",
            " [1.16752863e-01]\n",
            " [1.54810846e-02]\n",
            " [9.78476644e-01]\n",
            " [9.67464626e-01]\n",
            " [8.31224620e-02]\n",
            " [9.96892929e-01]\n",
            " [1.53045923e-01]\n",
            " [1.38450474e-01]\n",
            " [9.93314028e-01]\n",
            " [9.44655538e-01]\n",
            " [3.79824460e-01]\n",
            " [9.53740180e-01]\n",
            " [5.21427989e-02]\n",
            " [8.97540152e-01]\n",
            " [9.07244325e-01]\n",
            " [9.35841143e-01]\n",
            " [7.87749887e-01]\n",
            " [9.94510174e-01]\n",
            " [9.80743647e-01]\n",
            " [3.33559990e-01]\n",
            " [9.26254630e-01]\n",
            " [1.81988984e-01]\n",
            " [5.74819088e-01]\n",
            " [1.24853969e-01]\n",
            " [7.08976388e-03]\n",
            " [1.79249677e-04]\n",
            " [2.67851919e-01]\n",
            " [9.49085832e-01]\n",
            " [9.78516221e-01]]\n"
          ],
          "name": "stdout"
        }
      ]
    },
    {
      "cell_type": "code",
      "metadata": {
        "id": "4GmnZTE8m0Ij",
        "colab_type": "code",
        "colab": {
          "base_uri": "https://localhost:8080/",
          "height": 153
        },
        "outputId": "c5df2266-0801-46a1-f989-614060be88f0"
      },
      "source": [
        "# Round to get the actual predictions\n",
        "# Note: has to be flattened since the targets are size (N,) while the predictions are size (N,1)\n",
        "import numpy as np\n",
        "P = np.round(P).flatten()\n",
        "print(P)"
      ],
      "execution_count": 34,
      "outputs": [
        {
          "output_type": "stream",
          "text": [
            "[1. 1. 1. 0. 1. 1. 1. 1. 0. 0. 1. 1. 1. 1. 0. 1. 0. 1. 1. 1. 1. 0. 0. 0.\n",
            " 1. 1. 0. 1. 0. 0. 0. 0. 0. 0. 1. 1. 1. 1. 1. 0. 1. 0. 0. 1. 0. 0. 1. 1.\n",
            " 1. 0. 1. 1. 1. 1. 1. 0. 1. 0. 0. 1. 1. 1. 0. 1. 1. 0. 0. 1. 1. 1. 1. 1.\n",
            " 1. 0. 1. 1. 0. 1. 1. 1. 1. 1. 1. 1. 0. 1. 1. 0. 1. 1. 1. 1. 1. 1. 1. 1.\n",
            " 1. 1. 1. 1. 1. 1. 0. 0. 0. 1. 1. 1. 1. 1. 1. 1. 1. 0. 1. 0. 1. 0. 1. 1.\n",
            " 1. 0. 0. 0. 1. 0. 1. 0. 1. 1. 1. 1. 1. 0. 0. 0. 0. 1. 1. 1. 1. 0. 0. 0.\n",
            " 1. 1. 1. 0. 0. 1. 0. 1. 0. 1. 0. 1. 0. 0. 0. 0. 0. 1. 1. 0. 1. 0. 0. 1.\n",
            " 1. 0. 1. 0. 1. 1. 1. 1. 1. 1. 0. 1. 0. 1. 0. 0. 0. 0. 1. 1.]\n"
          ],
          "name": "stdout"
        }
      ]
    },
    {
      "cell_type": "code",
      "metadata": {
        "id": "zM2KsLrGm2-h",
        "colab_type": "code",
        "colab": {
          "base_uri": "https://localhost:8080/",
          "height": 68
        },
        "outputId": "3d0dd5de-c3ed-41f1-99cd-c183cf2f35e4"
      },
      "source": [
        "# Calculate the accuracy, compare it to evaluate() output\n",
        "print(\"Manually calculated accuracy:\", np.mean(P == y_test))\n",
        "print(\"Evaluate output:\", model.evaluate(X_test, y_test))"
      ],
      "execution_count": 35,
      "outputs": [
        {
          "output_type": "stream",
          "text": [
            "Manually calculated accuracy: 0.9787234042553191\n",
            "188/188 [==============================] - 0s 95us/sample - loss: 0.1004 - accuracy: 0.9787\n",
            "Evaluate output: [0.1004109855027909, 0.9787234]\n"
          ],
          "name": "stdout"
        }
      ]
    },
    {
      "cell_type": "markdown",
      "metadata": {
        "id": "Bx4-M7hWnMFT",
        "colab_type": "text"
      },
      "source": [
        "# Part 3: Saving and Loading a Model"
      ]
    },
    {
      "cell_type": "code",
      "metadata": {
        "id": "9PEzm8CsnTbN",
        "colab_type": "code",
        "colab": {}
      },
      "source": [
        "# Let's now save our model to a file\n",
        "model.save('linearclassifier.h5')"
      ],
      "execution_count": 0,
      "outputs": []
    },
    {
      "cell_type": "code",
      "metadata": {
        "id": "vruk3712nhZj",
        "colab_type": "code",
        "colab": {
          "base_uri": "https://localhost:8080/",
          "height": 187
        },
        "outputId": "6caad1a8-6bca-4592-f930-554eec3d91b2"
      },
      "source": [
        "# check that the model file exists\n",
        "!ls -lh"
      ],
      "execution_count": 37,
      "outputs": [
        {
          "output_type": "stream",
          "text": [
            "total 580K\n",
            "-rw-r--r-- 1 root root 393K Apr  1  1998 arrhythmia.data\n",
            "-rw-r--r-- 1 root root   76 Aug 16 11:21 fake_util.py\n",
            "drwx------ 3 root root 4.0K Aug 16 11:34 gdrive\n",
            "-rw-r--r-- 1 root root  19K Aug 16 13:29 linearclassifier.h5\n",
            "-rw-r--r-- 1 root root 2.3K Aug 16 12:35 moore.csv\n",
            "-rw-r--r-- 1 root root 2.3K Aug 16 13:19 moore.csv.1\n",
            "drwxr-xr-x 2 root root 4.0K Aug 16 11:21 __pycache__\n",
            "drwxr-xr-x 1 root root 4.0K Aug  2 16:06 sample_data\n",
            "-rw-r--r-- 1 root root 137K Aug 16 11:19 wrong_fitments.csv\n"
          ],
          "name": "stdout"
        }
      ]
    },
    {
      "cell_type": "code",
      "metadata": {
        "id": "TRQicX4cnnyg",
        "colab_type": "code",
        "colab": {
          "base_uri": "https://localhost:8080/",
          "height": 341
        },
        "outputId": "c874a822-f378-44f6-e97c-880e540c7db1"
      },
      "source": [
        "# Let's load the model and confirm that it still works\n",
        "# Note: there is a bug in Keras where load/save only works if you DON'T use the Input() layer explicitly\n",
        "# So, make sure you define the model with ONLY Dense(1, input_shape=(D,))\n",
        "# At least, until the bug is fixed\n",
        "# https://github.com/keras-team/keras/issues/10417\n",
        "model = tf.keras.models.load_model('linearclassifier.h5')\n",
        "print(model.layers)\n",
        "model.evaluate(X_test, y_test)"
      ],
      "execution_count": 38,
      "outputs": [
        {
          "output_type": "error",
          "ename": "ValueError",
          "evalue": "ignored",
          "traceback": [
            "\u001b[0;31m---------------------------------------------------------------------------\u001b[0m",
            "\u001b[0;31mValueError\u001b[0m                                Traceback (most recent call last)",
            "\u001b[0;32m<ipython-input-38-f9b0f33b27a0>\u001b[0m in \u001b[0;36m<module>\u001b[0;34m()\u001b[0m\n\u001b[0;32m----> 1\u001b[0;31m \u001b[0mmodel\u001b[0m \u001b[0;34m=\u001b[0m \u001b[0mtf\u001b[0m\u001b[0;34m.\u001b[0m\u001b[0mkeras\u001b[0m\u001b[0;34m.\u001b[0m\u001b[0mmodels\u001b[0m\u001b[0;34m.\u001b[0m\u001b[0mload_model\u001b[0m\u001b[0;34m(\u001b[0m\u001b[0;34m'linearclassifier.h5'\u001b[0m\u001b[0;34m)\u001b[0m\u001b[0;34m\u001b[0m\u001b[0;34m\u001b[0m\u001b[0m\n\u001b[0m\u001b[1;32m      2\u001b[0m \u001b[0mprint\u001b[0m\u001b[0;34m(\u001b[0m\u001b[0mmodel\u001b[0m\u001b[0;34m.\u001b[0m\u001b[0mlayers\u001b[0m\u001b[0;34m)\u001b[0m\u001b[0;34m\u001b[0m\u001b[0;34m\u001b[0m\u001b[0m\n\u001b[1;32m      3\u001b[0m \u001b[0mmodel\u001b[0m\u001b[0;34m.\u001b[0m\u001b[0mevaluate\u001b[0m\u001b[0;34m(\u001b[0m\u001b[0mX_test\u001b[0m\u001b[0;34m,\u001b[0m \u001b[0my_test\u001b[0m\u001b[0;34m)\u001b[0m\u001b[0;34m\u001b[0m\u001b[0;34m\u001b[0m\u001b[0m\n",
            "\u001b[0;32m/tensorflow-2.0.0b1/python3.6/tensorflow/python/keras/saving/save.py\u001b[0m in \u001b[0;36mload_model\u001b[0;34m(filepath, custom_objects, compile)\u001b[0m\n\u001b[1;32m    135\u001b[0m   if (h5py is not None and (\n\u001b[1;32m    136\u001b[0m       isinstance(filepath, h5py.File) or h5py.is_hdf5(filepath))):\n\u001b[0;32m--> 137\u001b[0;31m     \u001b[0;32mreturn\u001b[0m \u001b[0mhdf5_format\u001b[0m\u001b[0;34m.\u001b[0m\u001b[0mload_model_from_hdf5\u001b[0m\u001b[0;34m(\u001b[0m\u001b[0mfilepath\u001b[0m\u001b[0;34m,\u001b[0m \u001b[0mcustom_objects\u001b[0m\u001b[0;34m,\u001b[0m \u001b[0mcompile\u001b[0m\u001b[0;34m)\u001b[0m\u001b[0;34m\u001b[0m\u001b[0;34m\u001b[0m\u001b[0m\n\u001b[0m\u001b[1;32m    138\u001b[0m \u001b[0;34m\u001b[0m\u001b[0m\n\u001b[1;32m    139\u001b[0m   \u001b[0;32mif\u001b[0m \u001b[0misinstance\u001b[0m\u001b[0;34m(\u001b[0m\u001b[0mfilepath\u001b[0m\u001b[0;34m,\u001b[0m \u001b[0msix\u001b[0m\u001b[0;34m.\u001b[0m\u001b[0mstring_types\u001b[0m\u001b[0;34m)\u001b[0m\u001b[0;34m:\u001b[0m\u001b[0;34m\u001b[0m\u001b[0;34m\u001b[0m\u001b[0m\n",
            "\u001b[0;32m/tensorflow-2.0.0b1/python3.6/tensorflow/python/keras/saving/hdf5_format.py\u001b[0m in \u001b[0;36mload_model_from_hdf5\u001b[0;34m(filepath, custom_objects, compile)\u001b[0m\n\u001b[1;32m    163\u001b[0m \u001b[0;34m\u001b[0m\u001b[0m\n\u001b[1;32m    164\u001b[0m     \u001b[0;31m# set weights\u001b[0m\u001b[0;34m\u001b[0m\u001b[0;34m\u001b[0m\u001b[0;34m\u001b[0m\u001b[0m\n\u001b[0;32m--> 165\u001b[0;31m     \u001b[0mload_weights_from_hdf5_group\u001b[0m\u001b[0;34m(\u001b[0m\u001b[0mf\u001b[0m\u001b[0;34m[\u001b[0m\u001b[0;34m'model_weights'\u001b[0m\u001b[0;34m]\u001b[0m\u001b[0;34m,\u001b[0m \u001b[0mmodel\u001b[0m\u001b[0;34m.\u001b[0m\u001b[0mlayers\u001b[0m\u001b[0;34m)\u001b[0m\u001b[0;34m\u001b[0m\u001b[0;34m\u001b[0m\u001b[0m\n\u001b[0m\u001b[1;32m    166\u001b[0m \u001b[0;34m\u001b[0m\u001b[0m\n\u001b[1;32m    167\u001b[0m     \u001b[0;32mif\u001b[0m \u001b[0mcompile\u001b[0m\u001b[0;34m:\u001b[0m\u001b[0;34m\u001b[0m\u001b[0;34m\u001b[0m\u001b[0m\n",
            "\u001b[0;32m/tensorflow-2.0.0b1/python3.6/tensorflow/python/keras/saving/hdf5_format.py\u001b[0m in \u001b[0;36mload_weights_from_hdf5_group\u001b[0;34m(f, layers)\u001b[0m\n\u001b[1;32m    669\u001b[0m                      \u001b[0;34m'containing '\u001b[0m \u001b[0;34m+\u001b[0m \u001b[0mstr\u001b[0m\u001b[0;34m(\u001b[0m\u001b[0mlen\u001b[0m\u001b[0;34m(\u001b[0m\u001b[0mlayer_names\u001b[0m\u001b[0;34m)\u001b[0m\u001b[0;34m)\u001b[0m \u001b[0;34m+\u001b[0m\u001b[0;34m\u001b[0m\u001b[0;34m\u001b[0m\u001b[0m\n\u001b[1;32m    670\u001b[0m                      \u001b[0;34m' layers into a model with '\u001b[0m \u001b[0;34m+\u001b[0m \u001b[0mstr\u001b[0m\u001b[0;34m(\u001b[0m\u001b[0mlen\u001b[0m\u001b[0;34m(\u001b[0m\u001b[0mfiltered_layers\u001b[0m\u001b[0;34m)\u001b[0m\u001b[0;34m)\u001b[0m \u001b[0;34m+\u001b[0m\u001b[0;34m\u001b[0m\u001b[0;34m\u001b[0m\u001b[0m\n\u001b[0;32m--> 671\u001b[0;31m                      ' layers.')\n\u001b[0m\u001b[1;32m    672\u001b[0m \u001b[0;34m\u001b[0m\u001b[0m\n\u001b[1;32m    673\u001b[0m   \u001b[0;31m# We batch weight value assignments in a single backend call\u001b[0m\u001b[0;34m\u001b[0m\u001b[0;34m\u001b[0m\u001b[0;34m\u001b[0m\u001b[0m\n",
            "\u001b[0;31mValueError\u001b[0m: You are trying to load a weight file containing 1 layers into a model with 0 layers."
          ]
        }
      ]
    },
    {
      "cell_type": "code",
      "metadata": {
        "id": "5k7wquornspm",
        "colab_type": "code",
        "colab": {
          "base_uri": "https://localhost:8080/",
          "height": 324
        },
        "outputId": "1c8ae61c-9f00-4ae8-fc72-fe98881836f0"
      },
      "source": [
        "# Download the file - requires Chrome (at this point)\n",
        "from google.colab import files\n",
        "files.download('linearclassifier.h5')"
      ],
      "execution_count": 40,
      "outputs": [
        {
          "output_type": "error",
          "ename": "MessageError",
          "evalue": "ignored",
          "traceback": [
            "\u001b[0;31m---------------------------------------------------------------------------\u001b[0m",
            "\u001b[0;31mMessageError\u001b[0m                              Traceback (most recent call last)",
            "\u001b[0;32m<ipython-input-40-e644754b1e4c>\u001b[0m in \u001b[0;36m<module>\u001b[0;34m()\u001b[0m\n\u001b[1;32m      1\u001b[0m \u001b[0;32mfrom\u001b[0m \u001b[0mgoogle\u001b[0m\u001b[0;34m.\u001b[0m\u001b[0mcolab\u001b[0m \u001b[0;32mimport\u001b[0m \u001b[0mfiles\u001b[0m\u001b[0;34m\u001b[0m\u001b[0;34m\u001b[0m\u001b[0m\n\u001b[0;32m----> 2\u001b[0;31m \u001b[0mfiles\u001b[0m\u001b[0;34m.\u001b[0m\u001b[0mdownload\u001b[0m\u001b[0;34m(\u001b[0m\u001b[0;34m'linearclassifier.h5'\u001b[0m\u001b[0;34m)\u001b[0m\u001b[0;34m\u001b[0m\u001b[0;34m\u001b[0m\u001b[0m\n\u001b[0m",
            "\u001b[0;32m/usr/local/lib/python3.6/dist-packages/google/colab/files.py\u001b[0m in \u001b[0;36mdownload\u001b[0;34m(filename)\u001b[0m\n\u001b[1;32m    176\u001b[0m       \u001b[0;34m'port'\u001b[0m\u001b[0;34m:\u001b[0m \u001b[0mport\u001b[0m\u001b[0;34m,\u001b[0m\u001b[0;34m\u001b[0m\u001b[0;34m\u001b[0m\u001b[0m\n\u001b[1;32m    177\u001b[0m       \u001b[0;34m'path'\u001b[0m\u001b[0;34m:\u001b[0m \u001b[0m_os\u001b[0m\u001b[0;34m.\u001b[0m\u001b[0mpath\u001b[0m\u001b[0;34m.\u001b[0m\u001b[0mabspath\u001b[0m\u001b[0;34m(\u001b[0m\u001b[0mfilename\u001b[0m\u001b[0;34m)\u001b[0m\u001b[0;34m,\u001b[0m\u001b[0;34m\u001b[0m\u001b[0;34m\u001b[0m\u001b[0m\n\u001b[0;32m--> 178\u001b[0;31m       \u001b[0;34m'name'\u001b[0m\u001b[0;34m:\u001b[0m \u001b[0m_os\u001b[0m\u001b[0;34m.\u001b[0m\u001b[0mpath\u001b[0m\u001b[0;34m.\u001b[0m\u001b[0mbasename\u001b[0m\u001b[0;34m(\u001b[0m\u001b[0mfilename\u001b[0m\u001b[0;34m)\u001b[0m\u001b[0;34m,\u001b[0m\u001b[0;34m\u001b[0m\u001b[0;34m\u001b[0m\u001b[0m\n\u001b[0m\u001b[1;32m    179\u001b[0m   })\n",
            "\u001b[0;32m/usr/local/lib/python3.6/dist-packages/google/colab/output/_js.py\u001b[0m in \u001b[0;36meval_js\u001b[0;34m(script, ignore_result)\u001b[0m\n\u001b[1;32m     37\u001b[0m   \u001b[0;32mif\u001b[0m \u001b[0mignore_result\u001b[0m\u001b[0;34m:\u001b[0m\u001b[0;34m\u001b[0m\u001b[0;34m\u001b[0m\u001b[0m\n\u001b[1;32m     38\u001b[0m     \u001b[0;32mreturn\u001b[0m\u001b[0;34m\u001b[0m\u001b[0;34m\u001b[0m\u001b[0m\n\u001b[0;32m---> 39\u001b[0;31m   \u001b[0;32mreturn\u001b[0m \u001b[0m_message\u001b[0m\u001b[0;34m.\u001b[0m\u001b[0mread_reply_from_input\u001b[0m\u001b[0;34m(\u001b[0m\u001b[0mrequest_id\u001b[0m\u001b[0;34m)\u001b[0m\u001b[0;34m\u001b[0m\u001b[0;34m\u001b[0m\u001b[0m\n\u001b[0m\u001b[1;32m     40\u001b[0m \u001b[0;34m\u001b[0m\u001b[0m\n\u001b[1;32m     41\u001b[0m \u001b[0;34m\u001b[0m\u001b[0m\n",
            "\u001b[0;32m/usr/local/lib/python3.6/dist-packages/google/colab/_message.py\u001b[0m in \u001b[0;36mread_reply_from_input\u001b[0;34m(message_id, timeout_sec)\u001b[0m\n\u001b[1;32m    104\u001b[0m         reply.get('colab_msg_id') == message_id):\n\u001b[1;32m    105\u001b[0m       \u001b[0;32mif\u001b[0m \u001b[0;34m'error'\u001b[0m \u001b[0;32min\u001b[0m \u001b[0mreply\u001b[0m\u001b[0;34m:\u001b[0m\u001b[0;34m\u001b[0m\u001b[0;34m\u001b[0m\u001b[0m\n\u001b[0;32m--> 106\u001b[0;31m         \u001b[0;32mraise\u001b[0m \u001b[0mMessageError\u001b[0m\u001b[0;34m(\u001b[0m\u001b[0mreply\u001b[0m\u001b[0;34m[\u001b[0m\u001b[0;34m'error'\u001b[0m\u001b[0;34m]\u001b[0m\u001b[0;34m)\u001b[0m\u001b[0;34m\u001b[0m\u001b[0;34m\u001b[0m\u001b[0m\n\u001b[0m\u001b[1;32m    107\u001b[0m       \u001b[0;32mreturn\u001b[0m \u001b[0mreply\u001b[0m\u001b[0;34m.\u001b[0m\u001b[0mget\u001b[0m\u001b[0;34m(\u001b[0m\u001b[0;34m'data'\u001b[0m\u001b[0;34m,\u001b[0m \u001b[0;32mNone\u001b[0m\u001b[0;34m)\u001b[0m\u001b[0;34m\u001b[0m\u001b[0;34m\u001b[0m\u001b[0m\n\u001b[1;32m    108\u001b[0m \u001b[0;34m\u001b[0m\u001b[0m\n",
            "\u001b[0;31mMessageError\u001b[0m: TypeError: Failed to fetch"
          ]
        }
      ]
    }
  ]
}