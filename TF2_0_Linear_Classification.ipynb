{
  "nbformat": 4,
  "nbformat_minor": 0,
  "metadata": {
    "colab": {
      "name": "TF2.0 Linear Classification.ipynb",
      "version": "0.3.2",
      "provenance": [],
      "include_colab_link": true
    },
    "kernelspec": {
      "name": "python3",
      "display_name": "Python 3"
    }
  },
  "cells": [
    {
      "cell_type": "markdown",
      "metadata": {
        "id": "view-in-github",
        "colab_type": "text"
      },
      "source": [
        "<a href=\"https://colab.research.google.com/github/mic0331/deep-learning-tensorflow-2/blob/master/TF2_0_Linear_Classification.ipynb\" target=\"_parent\"><img src=\"https://colab.research.google.com/assets/colab-badge.svg\" alt=\"Open In Colab\"/></a>"
      ]
    },
    {
      "cell_type": "code",
      "metadata": {
        "id": "2uKexCgeV-l_",
        "colab_type": "code",
        "colab": {
          "base_uri": "https://localhost:8080/",
          "height": 119
        },
        "outputId": "7a9ba15f-d405-4838-bd23-3b9bbecd0a5b"
      },
      "source": [
        "# Install TensorFlow\n",
        "# !pip install -q tensorflow-gpu==2.0.0-beta1\n",
        "\n",
        "try:\n",
        "  %tensorflow_version 2.x  # Colab only.\n",
        "except Exception:\n",
        "  pass\n",
        "\n",
        "import tensorflow as tf\n",
        "print(tf.__version__)"
      ],
      "execution_count": 1,
      "outputs": [
        {
          "output_type": "stream",
          "text": [
            "`%tensorflow_version` only switches the major version: `1.x` or `2.x`.\n",
            "You set: `2.x  # Colab only.`. This will be interpreted as: `2.x`.\n",
            "\n",
            "\n",
            "TensorFlow 2.x selected.\n",
            "2.0.0-beta1\n"
          ],
          "name": "stdout"
        }
      ]
    },
    {
      "cell_type": "code",
      "metadata": {
        "id": "GFHSPY_aWMNw",
        "colab_type": "code",
        "colab": {}
      },
      "source": [
        "# load the data\n",
        "from sklearn.datasets import load_breast_cancer"
      ],
      "execution_count": 0,
      "outputs": []
    },
    {
      "cell_type": "code",
      "metadata": {
        "id": "axQIBVErWUMe",
        "colab_type": "code",
        "colab": {}
      },
      "source": [
        "# load the data\n",
        "data = load_breast_cancer()"
      ],
      "execution_count": 0,
      "outputs": []
    },
    {
      "cell_type": "code",
      "metadata": {
        "id": "xit8_JcCWZ8c",
        "colab_type": "code",
        "colab": {
          "base_uri": "https://localhost:8080/",
          "height": 34
        },
        "outputId": "7d7ac92c-e2b0-43cd-e144-7fc77d24fe53"
      },
      "source": [
        "# check the type of `data` \n",
        "type(data)"
      ],
      "execution_count": 4,
      "outputs": [
        {
          "output_type": "execute_result",
          "data": {
            "text/plain": [
              "sklearn.utils.Bunch"
            ]
          },
          "metadata": {
            "tags": []
          },
          "execution_count": 4
        }
      ]
    },
    {
      "cell_type": "code",
      "metadata": {
        "id": "MXG1Jdk5Wm0T",
        "colab_type": "code",
        "colab": {
          "base_uri": "https://localhost:8080/",
          "height": 34
        },
        "outputId": "f8c8b98f-7e53-4426-9af2-20d1913ce5b7"
      },
      "source": [
        "# note: it is a Bunch object\n",
        "# this basically acts like a dictionary where you can treat the keys like attributes\n",
        "data.keys()"
      ],
      "execution_count": 5,
      "outputs": [
        {
          "output_type": "execute_result",
          "data": {
            "text/plain": [
              "dict_keys(['data', 'target', 'target_names', 'DESCR', 'feature_names', 'filename'])"
            ]
          },
          "metadata": {
            "tags": []
          },
          "execution_count": 5
        }
      ]
    },
    {
      "cell_type": "code",
      "metadata": {
        "id": "Q-bmRURQWpZ_",
        "colab_type": "code",
        "colab": {
          "base_uri": "https://localhost:8080/",
          "height": 34
        },
        "outputId": "3c1942b0-e8f0-48b4-fdf9-fa9f43f1e841"
      },
      "source": [
        "# 'data' (the attribute) means the input data\n",
        "data.data.shape\n",
        "# it has 569 samples, 30 features"
      ],
      "execution_count": 6,
      "outputs": [
        {
          "output_type": "execute_result",
          "data": {
            "text/plain": [
              "(569, 30)"
            ]
          },
          "metadata": {
            "tags": []
          },
          "execution_count": 6
        }
      ]
    },
    {
      "cell_type": "code",
      "metadata": {
        "id": "DQJlFgaaWr9K",
        "colab_type": "code",
        "colab": {
          "base_uri": "https://localhost:8080/",
          "height": 459
        },
        "outputId": "31c02764-c628-4ac6-8620-d1fc5cef158e"
      },
      "source": [
        "# 'targets'\n",
        "data.target\n",
        "# note how the targets are just 0s and 1s\n",
        "# normally, when you have K targets, they are labeled 0..K-1"
      ],
      "execution_count": 7,
      "outputs": [
        {
          "output_type": "execute_result",
          "data": {
            "text/plain": [
              "array([0, 0, 0, 0, 0, 0, 0, 0, 0, 0, 0, 0, 0, 0, 0, 0, 0, 0, 0, 1, 1, 1,\n",
              "       0, 0, 0, 0, 0, 0, 0, 0, 0, 0, 0, 0, 0, 0, 0, 1, 0, 0, 0, 0, 0, 0,\n",
              "       0, 0, 1, 0, 1, 1, 1, 1, 1, 0, 0, 1, 0, 0, 1, 1, 1, 1, 0, 1, 0, 0,\n",
              "       1, 1, 1, 1, 0, 1, 0, 0, 1, 0, 1, 0, 0, 1, 1, 1, 0, 0, 1, 0, 0, 0,\n",
              "       1, 1, 1, 0, 1, 1, 0, 0, 1, 1, 1, 0, 0, 1, 1, 1, 1, 0, 1, 1, 0, 1,\n",
              "       1, 1, 1, 1, 1, 1, 1, 0, 0, 0, 1, 0, 0, 1, 1, 1, 0, 0, 1, 0, 1, 0,\n",
              "       0, 1, 0, 0, 1, 1, 0, 1, 1, 0, 1, 1, 1, 1, 0, 1, 1, 1, 1, 1, 1, 1,\n",
              "       1, 1, 0, 1, 1, 1, 1, 0, 0, 1, 0, 1, 1, 0, 0, 1, 1, 0, 0, 1, 1, 1,\n",
              "       1, 0, 1, 1, 0, 0, 0, 1, 0, 1, 0, 1, 1, 1, 0, 1, 1, 0, 0, 1, 0, 0,\n",
              "       0, 0, 1, 0, 0, 0, 1, 0, 1, 0, 1, 1, 0, 1, 0, 0, 0, 0, 1, 1, 0, 0,\n",
              "       1, 1, 1, 0, 1, 1, 1, 1, 1, 0, 0, 1, 1, 0, 1, 1, 0, 0, 1, 0, 1, 1,\n",
              "       1, 1, 0, 1, 1, 1, 1, 1, 0, 1, 0, 0, 0, 0, 0, 0, 0, 0, 0, 0, 0, 0,\n",
              "       0, 0, 1, 1, 1, 1, 1, 1, 0, 1, 0, 1, 1, 0, 1, 1, 0, 1, 0, 0, 1, 1,\n",
              "       1, 1, 1, 1, 1, 1, 1, 1, 1, 1, 1, 0, 1, 1, 0, 1, 0, 1, 1, 1, 1, 1,\n",
              "       1, 1, 1, 1, 1, 1, 1, 1, 1, 0, 1, 1, 1, 0, 1, 0, 1, 1, 1, 1, 0, 0,\n",
              "       0, 1, 1, 1, 1, 0, 1, 0, 1, 0, 1, 1, 1, 0, 1, 1, 1, 1, 1, 1, 1, 0,\n",
              "       0, 0, 1, 1, 1, 1, 1, 1, 1, 1, 1, 1, 1, 0, 0, 1, 0, 0, 0, 1, 0, 0,\n",
              "       1, 1, 1, 1, 1, 0, 1, 1, 1, 1, 1, 0, 1, 1, 1, 0, 1, 1, 0, 0, 1, 1,\n",
              "       1, 1, 1, 1, 0, 1, 1, 1, 1, 1, 1, 1, 0, 1, 1, 1, 1, 1, 0, 1, 1, 0,\n",
              "       1, 1, 1, 1, 1, 1, 1, 1, 1, 1, 1, 1, 0, 1, 0, 0, 1, 0, 1, 1, 1, 1,\n",
              "       1, 0, 1, 1, 0, 1, 0, 1, 1, 0, 1, 0, 1, 1, 1, 1, 1, 1, 1, 1, 0, 0,\n",
              "       1, 1, 1, 1, 1, 1, 0, 1, 1, 1, 1, 1, 1, 1, 1, 1, 1, 0, 1, 1, 1, 1,\n",
              "       1, 1, 1, 0, 1, 0, 1, 1, 0, 1, 1, 1, 1, 1, 0, 0, 1, 0, 1, 0, 1, 1,\n",
              "       1, 1, 1, 0, 1, 1, 0, 1, 0, 1, 0, 0, 1, 1, 1, 0, 1, 1, 1, 1, 1, 1,\n",
              "       1, 1, 1, 1, 1, 0, 1, 0, 0, 1, 1, 1, 1, 1, 1, 1, 1, 1, 1, 1, 1, 1,\n",
              "       1, 1, 1, 1, 1, 1, 1, 1, 1, 1, 1, 1, 0, 0, 0, 0, 0, 0, 1])"
            ]
          },
          "metadata": {
            "tags": []
          },
          "execution_count": 7
        }
      ]
    },
    {
      "cell_type": "code",
      "metadata": {
        "id": "iFvTknwuW6Nk",
        "colab_type": "code",
        "colab": {
          "base_uri": "https://localhost:8080/",
          "height": 34
        },
        "outputId": "d49c0ae1-1c5e-41dc-e4a7-06dddaec9862"
      },
      "source": [
        "# their meaning is not lost\n",
        "data.target_names"
      ],
      "execution_count": 8,
      "outputs": [
        {
          "output_type": "execute_result",
          "data": {
            "text/plain": [
              "array(['malignant', 'benign'], dtype='<U9')"
            ]
          },
          "metadata": {
            "tags": []
          },
          "execution_count": 8
        }
      ]
    },
    {
      "cell_type": "code",
      "metadata": {
        "id": "IWbKNZ4BW-3L",
        "colab_type": "code",
        "colab": {
          "base_uri": "https://localhost:8080/",
          "height": 34
        },
        "outputId": "e4edbd3e-40dd-4032-e61e-f5be0eadfc21"
      },
      "source": [
        "# there are also 569 corresponding targets\n",
        "data.target.shape"
      ],
      "execution_count": 9,
      "outputs": [
        {
          "output_type": "execute_result",
          "data": {
            "text/plain": [
              "(569,)"
            ]
          },
          "metadata": {
            "tags": []
          },
          "execution_count": 9
        }
      ]
    },
    {
      "cell_type": "code",
      "metadata": {
        "id": "GGi6rINbXFOE",
        "colab_type": "code",
        "colab": {
          "base_uri": "https://localhost:8080/",
          "height": 187
        },
        "outputId": "001e80ce-ed08-4e3a-e728-6658aa8224e0"
      },
      "source": [
        "# you can also determine the meaning of each feature\n",
        "data.feature_names"
      ],
      "execution_count": 11,
      "outputs": [
        {
          "output_type": "execute_result",
          "data": {
            "text/plain": [
              "array(['mean radius', 'mean texture', 'mean perimeter', 'mean area',\n",
              "       'mean smoothness', 'mean compactness', 'mean concavity',\n",
              "       'mean concave points', 'mean symmetry', 'mean fractal dimension',\n",
              "       'radius error', 'texture error', 'perimeter error', 'area error',\n",
              "       'smoothness error', 'compactness error', 'concavity error',\n",
              "       'concave points error', 'symmetry error',\n",
              "       'fractal dimension error', 'worst radius', 'worst texture',\n",
              "       'worst perimeter', 'worst area', 'worst smoothness',\n",
              "       'worst compactness', 'worst concavity', 'worst concave points',\n",
              "       'worst symmetry', 'worst fractal dimension'], dtype='<U23')"
            ]
          },
          "metadata": {
            "tags": []
          },
          "execution_count": 11
        }
      ]
    },
    {
      "cell_type": "code",
      "metadata": {
        "id": "tLvVL5b3XQ7g",
        "colab_type": "code",
        "colab": {}
      },
      "source": [
        "from sklearn.model_selection import train_test_split\n",
        "\n",
        "# split the data into train and test sets\n",
        "# this lets us simulate how our model will perform in the future\n",
        "X_train, X_test, y_train, y_test = train_test_split(data.data, data.target, test_size=0.33)\n",
        "N, D = X_train.shape"
      ],
      "execution_count": 0,
      "outputs": []
    },
    {
      "cell_type": "code",
      "metadata": {
        "id": "aEcU41YcXnJD",
        "colab_type": "code",
        "colab": {}
      },
      "source": [
        "# Scale the data\n",
        "from sklearn.preprocessing import StandardScaler\n",
        "\n",
        "scaler = StandardScaler()\n",
        "X_train = scaler.fit_transform(X_train)\n",
        "X_test = scaler.transform(X_test)"
      ],
      "execution_count": 0,
      "outputs": []
    },
    {
      "cell_type": "code",
      "metadata": {
        "id": "FRw3OAP4X036",
        "colab_type": "code",
        "colab": {
          "base_uri": "https://localhost:8080/",
          "height": 1000
        },
        "outputId": "b45ce4b3-34e3-4451-b2fd-0da8114c3f09"
      },
      "source": [
        "# Build the model\n",
        "model = tf.keras.models.Sequential([\n",
        "    tf.keras.layers.Input(shape=(D,)),\n",
        "    tf.keras.layers.Dense(1, activation='sigmoid')\n",
        "])\n",
        "\n",
        "# Alternatively, you can do:\n",
        "#model = tf.keras.models.Sequential()\n",
        "#model.add(tf.keras.layers.Dense(1, input_shape=(D,), activation='sigmoid'))\n",
        "\n",
        "model.compile(optimizer='adam',\n",
        "              loss='binary_crossentropy',\n",
        "              metrics=['accuracy'])\n",
        "\n",
        "# Train the model\n",
        "r = model.fit(X_train, y_train, validation_data=(X_test, y_test), epochs=100)"
      ],
      "execution_count": 15,
      "outputs": [
        {
          "output_type": "stream",
          "text": [
            "WARNING: Logging before flag parsing goes to stderr.\n",
            "W0816 12:24:53.994216 139693613733760 deprecation.py:323] From /tensorflow-2.0.0b1/python3.6/tensorflow/python/ops/math_grad.py:1250: add_dispatch_support.<locals>.wrapper (from tensorflow.python.ops.array_ops) is deprecated and will be removed in a future version.\n",
            "Instructions for updating:\n",
            "Use tf.where in 2.0, which has the same broadcast rule as np.where\n"
          ],
          "name": "stderr"
        },
        {
          "output_type": "stream",
          "text": [
            "Train on 381 samples, validate on 188 samples\n",
            "Epoch 1/100\n",
            "381/381 [==============================] - 1s 2ms/sample - loss: 0.9806 - accuracy: 0.4016 - val_loss: 0.8831 - val_accuracy: 0.4202\n",
            "Epoch 2/100\n",
            "381/381 [==============================] - 0s 84us/sample - loss: 0.8893 - accuracy: 0.4383 - val_loss: 0.8031 - val_accuracy: 0.4947\n",
            "Epoch 3/100\n",
            "381/381 [==============================] - 0s 91us/sample - loss: 0.8041 - accuracy: 0.5171 - val_loss: 0.7339 - val_accuracy: 0.5904\n",
            "Epoch 4/100\n",
            "381/381 [==============================] - 0s 87us/sample - loss: 0.7312 - accuracy: 0.5958 - val_loss: 0.6730 - val_accuracy: 0.6330\n",
            "Epoch 5/100\n",
            "381/381 [==============================] - 0s 80us/sample - loss: 0.6698 - accuracy: 0.6483 - val_loss: 0.6191 - val_accuracy: 0.7074\n",
            "Epoch 6/100\n",
            "381/381 [==============================] - 0s 81us/sample - loss: 0.6140 - accuracy: 0.6955 - val_loss: 0.5738 - val_accuracy: 0.7287\n",
            "Epoch 7/100\n",
            "381/381 [==============================] - 0s 73us/sample - loss: 0.5681 - accuracy: 0.7428 - val_loss: 0.5343 - val_accuracy: 0.7766\n",
            "Epoch 8/100\n",
            "381/381 [==============================] - 0s 79us/sample - loss: 0.5282 - accuracy: 0.7795 - val_loss: 0.5000 - val_accuracy: 0.7979\n",
            "Epoch 9/100\n",
            "381/381 [==============================] - 0s 82us/sample - loss: 0.4929 - accuracy: 0.8084 - val_loss: 0.4709 - val_accuracy: 0.8032\n",
            "Epoch 10/100\n",
            "381/381 [==============================] - 0s 80us/sample - loss: 0.4628 - accuracy: 0.8189 - val_loss: 0.4454 - val_accuracy: 0.8404\n",
            "Epoch 11/100\n",
            "381/381 [==============================] - 0s 80us/sample - loss: 0.4371 - accuracy: 0.8425 - val_loss: 0.4225 - val_accuracy: 0.8404\n",
            "Epoch 12/100\n",
            "381/381 [==============================] - 0s 85us/sample - loss: 0.4136 - accuracy: 0.8556 - val_loss: 0.4026 - val_accuracy: 0.8564\n",
            "Epoch 13/100\n",
            "381/381 [==============================] - 0s 89us/sample - loss: 0.3924 - accuracy: 0.8609 - val_loss: 0.3853 - val_accuracy: 0.8564\n",
            "Epoch 14/100\n",
            "381/381 [==============================] - 0s 83us/sample - loss: 0.3745 - accuracy: 0.8714 - val_loss: 0.3696 - val_accuracy: 0.8564\n",
            "Epoch 15/100\n",
            "381/381 [==============================] - 0s 83us/sample - loss: 0.3580 - accuracy: 0.8766 - val_loss: 0.3553 - val_accuracy: 0.8670\n",
            "Epoch 16/100\n",
            "381/381 [==============================] - 0s 79us/sample - loss: 0.3429 - accuracy: 0.8793 - val_loss: 0.3426 - val_accuracy: 0.8883\n",
            "Epoch 17/100\n",
            "381/381 [==============================] - 0s 87us/sample - loss: 0.3294 - accuracy: 0.8845 - val_loss: 0.3311 - val_accuracy: 0.8883\n",
            "Epoch 18/100\n",
            "381/381 [==============================] - 0s 84us/sample - loss: 0.3173 - accuracy: 0.8845 - val_loss: 0.3204 - val_accuracy: 0.8883\n",
            "Epoch 19/100\n",
            "381/381 [==============================] - 0s 79us/sample - loss: 0.3057 - accuracy: 0.8871 - val_loss: 0.3108 - val_accuracy: 0.8989\n",
            "Epoch 20/100\n",
            "381/381 [==============================] - 0s 89us/sample - loss: 0.2953 - accuracy: 0.8924 - val_loss: 0.3019 - val_accuracy: 0.8989\n",
            "Epoch 21/100\n",
            "381/381 [==============================] - 0s 74us/sample - loss: 0.2856 - accuracy: 0.9003 - val_loss: 0.2937 - val_accuracy: 0.9043\n",
            "Epoch 22/100\n",
            "381/381 [==============================] - 0s 74us/sample - loss: 0.2769 - accuracy: 0.9003 - val_loss: 0.2859 - val_accuracy: 0.9043\n",
            "Epoch 23/100\n",
            "381/381 [==============================] - 0s 79us/sample - loss: 0.2686 - accuracy: 0.9081 - val_loss: 0.2787 - val_accuracy: 0.9096\n",
            "Epoch 24/100\n",
            "381/381 [==============================] - 0s 94us/sample - loss: 0.2610 - accuracy: 0.9055 - val_loss: 0.2719 - val_accuracy: 0.9149\n",
            "Epoch 25/100\n",
            "381/381 [==============================] - 0s 80us/sample - loss: 0.2535 - accuracy: 0.9081 - val_loss: 0.2657 - val_accuracy: 0.9202\n",
            "Epoch 26/100\n",
            "381/381 [==============================] - 0s 76us/sample - loss: 0.2468 - accuracy: 0.9134 - val_loss: 0.2599 - val_accuracy: 0.9202\n",
            "Epoch 27/100\n",
            "381/381 [==============================] - 0s 82us/sample - loss: 0.2404 - accuracy: 0.9186 - val_loss: 0.2545 - val_accuracy: 0.9202\n",
            "Epoch 28/100\n",
            "381/381 [==============================] - 0s 83us/sample - loss: 0.2344 - accuracy: 0.9213 - val_loss: 0.2493 - val_accuracy: 0.9362\n",
            "Epoch 29/100\n",
            "381/381 [==============================] - 0s 83us/sample - loss: 0.2288 - accuracy: 0.9239 - val_loss: 0.2445 - val_accuracy: 0.9415\n",
            "Epoch 30/100\n",
            "381/381 [==============================] - 0s 88us/sample - loss: 0.2234 - accuracy: 0.9265 - val_loss: 0.2398 - val_accuracy: 0.9415\n",
            "Epoch 31/100\n",
            "381/381 [==============================] - 0s 78us/sample - loss: 0.2185 - accuracy: 0.9265 - val_loss: 0.2353 - val_accuracy: 0.9415\n",
            "Epoch 32/100\n",
            "381/381 [==============================] - 0s 79us/sample - loss: 0.2135 - accuracy: 0.9265 - val_loss: 0.2312 - val_accuracy: 0.9415\n",
            "Epoch 33/100\n",
            "381/381 [==============================] - 0s 78us/sample - loss: 0.2090 - accuracy: 0.9318 - val_loss: 0.2273 - val_accuracy: 0.9415\n",
            "Epoch 34/100\n",
            "381/381 [==============================] - 0s 81us/sample - loss: 0.2048 - accuracy: 0.9370 - val_loss: 0.2234 - val_accuracy: 0.9415\n",
            "Epoch 35/100\n",
            "381/381 [==============================] - 0s 103us/sample - loss: 0.2007 - accuracy: 0.9396 - val_loss: 0.2198 - val_accuracy: 0.9415\n",
            "Epoch 36/100\n",
            "381/381 [==============================] - 0s 86us/sample - loss: 0.1967 - accuracy: 0.9396 - val_loss: 0.2164 - val_accuracy: 0.9415\n",
            "Epoch 37/100\n",
            "381/381 [==============================] - 0s 84us/sample - loss: 0.1930 - accuracy: 0.9396 - val_loss: 0.2131 - val_accuracy: 0.9415\n",
            "Epoch 38/100\n",
            "381/381 [==============================] - 0s 81us/sample - loss: 0.1894 - accuracy: 0.9423 - val_loss: 0.2100 - val_accuracy: 0.9415\n",
            "Epoch 39/100\n",
            "381/381 [==============================] - 0s 77us/sample - loss: 0.1860 - accuracy: 0.9449 - val_loss: 0.2070 - val_accuracy: 0.9415\n",
            "Epoch 40/100\n",
            "381/381 [==============================] - 0s 84us/sample - loss: 0.1828 - accuracy: 0.9449 - val_loss: 0.2040 - val_accuracy: 0.9415\n",
            "Epoch 41/100\n",
            "381/381 [==============================] - 0s 77us/sample - loss: 0.1797 - accuracy: 0.9449 - val_loss: 0.2012 - val_accuracy: 0.9415\n",
            "Epoch 42/100\n",
            "381/381 [==============================] - 0s 85us/sample - loss: 0.1766 - accuracy: 0.9449 - val_loss: 0.1986 - val_accuracy: 0.9415\n",
            "Epoch 43/100\n",
            "381/381 [==============================] - 0s 77us/sample - loss: 0.1738 - accuracy: 0.9475 - val_loss: 0.1960 - val_accuracy: 0.9415\n",
            "Epoch 44/100\n",
            "381/381 [==============================] - 0s 105us/sample - loss: 0.1709 - accuracy: 0.9475 - val_loss: 0.1936 - val_accuracy: 0.9415\n",
            "Epoch 45/100\n",
            "381/381 [==============================] - 0s 79us/sample - loss: 0.1684 - accuracy: 0.9475 - val_loss: 0.1913 - val_accuracy: 0.9415\n",
            "Epoch 46/100\n",
            "381/381 [==============================] - 0s 92us/sample - loss: 0.1659 - accuracy: 0.9475 - val_loss: 0.1888 - val_accuracy: 0.9415\n",
            "Epoch 47/100\n",
            "381/381 [==============================] - 0s 76us/sample - loss: 0.1634 - accuracy: 0.9475 - val_loss: 0.1867 - val_accuracy: 0.9415\n",
            "Epoch 48/100\n",
            "381/381 [==============================] - 0s 73us/sample - loss: 0.1610 - accuracy: 0.9475 - val_loss: 0.1845 - val_accuracy: 0.9415\n",
            "Epoch 49/100\n",
            "381/381 [==============================] - 0s 80us/sample - loss: 0.1588 - accuracy: 0.9475 - val_loss: 0.1824 - val_accuracy: 0.9415\n",
            "Epoch 50/100\n",
            "381/381 [==============================] - 0s 75us/sample - loss: 0.1566 - accuracy: 0.9475 - val_loss: 0.1804 - val_accuracy: 0.9415\n",
            "Epoch 51/100\n",
            "381/381 [==============================] - 0s 81us/sample - loss: 0.1544 - accuracy: 0.9475 - val_loss: 0.1785 - val_accuracy: 0.9415\n",
            "Epoch 52/100\n",
            "381/381 [==============================] - 0s 82us/sample - loss: 0.1524 - accuracy: 0.9475 - val_loss: 0.1766 - val_accuracy: 0.9415\n",
            "Epoch 53/100\n",
            "381/381 [==============================] - 0s 71us/sample - loss: 0.1505 - accuracy: 0.9475 - val_loss: 0.1747 - val_accuracy: 0.9415\n",
            "Epoch 54/100\n",
            "381/381 [==============================] - 0s 76us/sample - loss: 0.1486 - accuracy: 0.9475 - val_loss: 0.1731 - val_accuracy: 0.9415\n",
            "Epoch 55/100\n",
            "381/381 [==============================] - 0s 75us/sample - loss: 0.1468 - accuracy: 0.9475 - val_loss: 0.1714 - val_accuracy: 0.9415\n",
            "Epoch 56/100\n",
            "381/381 [==============================] - 0s 71us/sample - loss: 0.1450 - accuracy: 0.9501 - val_loss: 0.1697 - val_accuracy: 0.9468\n",
            "Epoch 57/100\n",
            "381/381 [==============================] - 0s 79us/sample - loss: 0.1433 - accuracy: 0.9501 - val_loss: 0.1681 - val_accuracy: 0.9468\n",
            "Epoch 58/100\n",
            "381/381 [==============================] - 0s 77us/sample - loss: 0.1416 - accuracy: 0.9501 - val_loss: 0.1665 - val_accuracy: 0.9468\n",
            "Epoch 59/100\n",
            "381/381 [==============================] - 0s 74us/sample - loss: 0.1401 - accuracy: 0.9501 - val_loss: 0.1650 - val_accuracy: 0.9468\n",
            "Epoch 60/100\n",
            "381/381 [==============================] - 0s 85us/sample - loss: 0.1385 - accuracy: 0.9501 - val_loss: 0.1636 - val_accuracy: 0.9521\n",
            "Epoch 61/100\n",
            "381/381 [==============================] - 0s 85us/sample - loss: 0.1370 - accuracy: 0.9501 - val_loss: 0.1621 - val_accuracy: 0.9521\n",
            "Epoch 62/100\n",
            "381/381 [==============================] - 0s 84us/sample - loss: 0.1355 - accuracy: 0.9528 - val_loss: 0.1608 - val_accuracy: 0.9521\n",
            "Epoch 63/100\n",
            "381/381 [==============================] - 0s 82us/sample - loss: 0.1342 - accuracy: 0.9554 - val_loss: 0.1594 - val_accuracy: 0.9521\n",
            "Epoch 64/100\n",
            "381/381 [==============================] - 0s 82us/sample - loss: 0.1328 - accuracy: 0.9554 - val_loss: 0.1582 - val_accuracy: 0.9521\n",
            "Epoch 65/100\n",
            "381/381 [==============================] - 0s 73us/sample - loss: 0.1315 - accuracy: 0.9554 - val_loss: 0.1568 - val_accuracy: 0.9521\n",
            "Epoch 66/100\n",
            "381/381 [==============================] - 0s 72us/sample - loss: 0.1301 - accuracy: 0.9554 - val_loss: 0.1556 - val_accuracy: 0.9574\n",
            "Epoch 67/100\n",
            "381/381 [==============================] - 0s 75us/sample - loss: 0.1289 - accuracy: 0.9554 - val_loss: 0.1544 - val_accuracy: 0.9574\n",
            "Epoch 68/100\n",
            "381/381 [==============================] - 0s 94us/sample - loss: 0.1277 - accuracy: 0.9554 - val_loss: 0.1533 - val_accuracy: 0.9574\n",
            "Epoch 69/100\n",
            "381/381 [==============================] - 0s 70us/sample - loss: 0.1266 - accuracy: 0.9580 - val_loss: 0.1520 - val_accuracy: 0.9574\n",
            "Epoch 70/100\n",
            "381/381 [==============================] - 0s 86us/sample - loss: 0.1253 - accuracy: 0.9580 - val_loss: 0.1508 - val_accuracy: 0.9574\n",
            "Epoch 71/100\n",
            "381/381 [==============================] - 0s 81us/sample - loss: 0.1242 - accuracy: 0.9606 - val_loss: 0.1499 - val_accuracy: 0.9574\n",
            "Epoch 72/100\n",
            "381/381 [==============================] - 0s 81us/sample - loss: 0.1231 - accuracy: 0.9606 - val_loss: 0.1488 - val_accuracy: 0.9628\n",
            "Epoch 73/100\n",
            "381/381 [==============================] - 0s 84us/sample - loss: 0.1220 - accuracy: 0.9606 - val_loss: 0.1477 - val_accuracy: 0.9628\n",
            "Epoch 74/100\n",
            "381/381 [==============================] - 0s 70us/sample - loss: 0.1210 - accuracy: 0.9606 - val_loss: 0.1467 - val_accuracy: 0.9628\n",
            "Epoch 75/100\n",
            "381/381 [==============================] - 0s 77us/sample - loss: 0.1200 - accuracy: 0.9606 - val_loss: 0.1457 - val_accuracy: 0.9628\n",
            "Epoch 76/100\n",
            "381/381 [==============================] - 0s 85us/sample - loss: 0.1190 - accuracy: 0.9659 - val_loss: 0.1447 - val_accuracy: 0.9628\n",
            "Epoch 77/100\n",
            "381/381 [==============================] - 0s 85us/sample - loss: 0.1180 - accuracy: 0.9659 - val_loss: 0.1438 - val_accuracy: 0.9628\n",
            "Epoch 78/100\n",
            "381/381 [==============================] - 0s 85us/sample - loss: 0.1171 - accuracy: 0.9659 - val_loss: 0.1429 - val_accuracy: 0.9628\n",
            "Epoch 79/100\n",
            "381/381 [==============================] - 0s 86us/sample - loss: 0.1162 - accuracy: 0.9659 - val_loss: 0.1420 - val_accuracy: 0.9628\n",
            "Epoch 80/100\n",
            "381/381 [==============================] - 0s 72us/sample - loss: 0.1153 - accuracy: 0.9659 - val_loss: 0.1411 - val_accuracy: 0.9628\n",
            "Epoch 81/100\n",
            "381/381 [==============================] - 0s 71us/sample - loss: 0.1144 - accuracy: 0.9659 - val_loss: 0.1402 - val_accuracy: 0.9628\n",
            "Epoch 82/100\n",
            "381/381 [==============================] - 0s 70us/sample - loss: 0.1135 - accuracy: 0.9659 - val_loss: 0.1394 - val_accuracy: 0.9628\n",
            "Epoch 83/100\n",
            "381/381 [==============================] - 0s 90us/sample - loss: 0.1127 - accuracy: 0.9659 - val_loss: 0.1386 - val_accuracy: 0.9628\n",
            "Epoch 84/100\n",
            "381/381 [==============================] - 0s 80us/sample - loss: 0.1119 - accuracy: 0.9685 - val_loss: 0.1378 - val_accuracy: 0.9628\n",
            "Epoch 85/100\n",
            "381/381 [==============================] - 0s 69us/sample - loss: 0.1111 - accuracy: 0.9711 - val_loss: 0.1370 - val_accuracy: 0.9628\n",
            "Epoch 86/100\n",
            "381/381 [==============================] - 0s 74us/sample - loss: 0.1103 - accuracy: 0.9711 - val_loss: 0.1363 - val_accuracy: 0.9628\n",
            "Epoch 87/100\n",
            "381/381 [==============================] - 0s 76us/sample - loss: 0.1095 - accuracy: 0.9711 - val_loss: 0.1355 - val_accuracy: 0.9628\n",
            "Epoch 88/100\n",
            "381/381 [==============================] - 0s 75us/sample - loss: 0.1087 - accuracy: 0.9711 - val_loss: 0.1347 - val_accuracy: 0.9628\n",
            "Epoch 89/100\n",
            "381/381 [==============================] - 0s 66us/sample - loss: 0.1080 - accuracy: 0.9738 - val_loss: 0.1340 - val_accuracy: 0.9628\n",
            "Epoch 90/100\n",
            "381/381 [==============================] - 0s 74us/sample - loss: 0.1073 - accuracy: 0.9738 - val_loss: 0.1333 - val_accuracy: 0.9628\n",
            "Epoch 91/100\n",
            "381/381 [==============================] - 0s 79us/sample - loss: 0.1065 - accuracy: 0.9764 - val_loss: 0.1326 - val_accuracy: 0.9628\n",
            "Epoch 92/100\n",
            "381/381 [==============================] - 0s 81us/sample - loss: 0.1059 - accuracy: 0.9764 - val_loss: 0.1318 - val_accuracy: 0.9628\n",
            "Epoch 93/100\n",
            "381/381 [==============================] - 0s 74us/sample - loss: 0.1052 - accuracy: 0.9764 - val_loss: 0.1312 - val_accuracy: 0.9628\n",
            "Epoch 94/100\n",
            "381/381 [==============================] - 0s 69us/sample - loss: 0.1045 - accuracy: 0.9764 - val_loss: 0.1305 - val_accuracy: 0.9628\n",
            "Epoch 95/100\n",
            "381/381 [==============================] - 0s 69us/sample - loss: 0.1039 - accuracy: 0.9764 - val_loss: 0.1299 - val_accuracy: 0.9628\n",
            "Epoch 96/100\n",
            "381/381 [==============================] - 0s 70us/sample - loss: 0.1032 - accuracy: 0.9764 - val_loss: 0.1292 - val_accuracy: 0.9628\n",
            "Epoch 97/100\n",
            "381/381 [==============================] - 0s 78us/sample - loss: 0.1026 - accuracy: 0.9764 - val_loss: 0.1286 - val_accuracy: 0.9628\n",
            "Epoch 98/100\n",
            "381/381 [==============================] - 0s 71us/sample - loss: 0.1019 - accuracy: 0.9764 - val_loss: 0.1281 - val_accuracy: 0.9628\n",
            "Epoch 99/100\n",
            "381/381 [==============================] - 0s 75us/sample - loss: 0.1013 - accuracy: 0.9764 - val_loss: 0.1275 - val_accuracy: 0.9628\n",
            "Epoch 100/100\n",
            "381/381 [==============================] - 0s 81us/sample - loss: 0.1007 - accuracy: 0.9764 - val_loss: 0.1269 - val_accuracy: 0.9628\n"
          ],
          "name": "stdout"
        }
      ]
    },
    {
      "cell_type": "code",
      "metadata": {
        "id": "qevAh3knY03c",
        "colab_type": "code",
        "colab": {
          "base_uri": "https://localhost:8080/",
          "height": 286
        },
        "outputId": "7cde65a2-8c7c-42a9-b522-a9868ba9b41b"
      },
      "source": [
        "# Evaluate what's returned by model.fit()\n",
        "import matplotlib.pyplot as plt\n",
        "plt.plot(r.history['loss'], label='loss')\n",
        "plt.plot(r.history['val_loss'], label='val_loss')\n",
        "plt.legend()"
      ],
      "execution_count": 16,
      "outputs": [
        {
          "output_type": "execute_result",
          "data": {
            "text/plain": [
              "<matplotlib.legend.Legend at 0x7f0cac771438>"
            ]
          },
          "metadata": {
            "tags": []
          },
          "execution_count": 16
        },
        {
          "output_type": "display_data",
          "data": {
            "image/png": "[encoded data removed]",
            "text/plain": [
              "<Figure size 432x288 with 1 Axes>"
            ]
          },
          "metadata": {
            "tags": []
          }
        }
      ]
    },
    {
      "cell_type": "code",
      "metadata": {
        "id": "8NUlpAtPZQTx",
        "colab_type": "code",
        "colab": {
          "base_uri": "https://localhost:8080/",
          "height": 286
        },
        "outputId": "7009c25e-992e-470c-aa5a-5affa9a45f8a"
      },
      "source": [
        "# Plot the accuracy too\n",
        "plt.plot(r.history['accuracy'], label='acc')\n",
        "plt.plot(r.history['val_accuracy'], label='val_acc')\n",
        "plt.legend()"
      ],
      "execution_count": 17,
      "outputs": [
        {
          "output_type": "execute_result",
          "data": {
            "text/plain": [
              "<matplotlib.legend.Legend at 0x7f0ca9e84860>"
            ]
          },
          "metadata": {
            "tags": []
          },
          "execution_count": 17
        },
        {
          "output_type": "display_data",
          "data": {
            "image/png": "[encoded data removed]",
            "text/plain": [
              "<Figure size 432x288 with 1 Axes>"
            ]
          },
          "metadata": {
            "tags": []
          }
        }
      ]
    }
  ]
}