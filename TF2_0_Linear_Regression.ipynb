{
  "nbformat": 4,
  "nbformat_minor": 0,
  "metadata": {
    "colab": {
      "name": "TF2.0 Linear Regression.ipynb",
      "version": "0.3.2",
      "provenance": [],
      "include_colab_link": true
    },
    "kernelspec": {
      "name": "python3",
      "display_name": "Python 3"
    }
  },
  "cells": [
    {
      "cell_type": "markdown",
      "metadata": {
        "id": "view-in-github",
        "colab_type": "text"
      },
      "source": [
        "<a href=\"https://colab.research.google.com/github/mic0331/deep-learning-tensorflow-2/blob/master/TF2_0_Linear_Regression.ipynb\" target=\"_parent\"><img src=\"https://colab.research.google.com/assets/colab-badge.svg\" alt=\"Open In Colab\"/></a>"
      ]
    },
    {
      "cell_type": "code",
      "metadata": {
        "id": "MbxGaPSCbCo1",
        "colab_type": "code",
        "colab": {
          "base_uri": "https://localhost:8080/",
          "height": 119
        },
        "outputId": "f43bc457-4c09-4617-f73f-827b8b74d1fd"
      },
      "source": [
        "# Install TensorFlow\n",
        "# !pip install -q tensorflow-gpu==2.0.0-beta1\n",
        "\n",
        "try:\n",
        "  %tensorflow_version 2.x  # Colab only.\n",
        "except Exception:\n",
        "  pass\n",
        "\n",
        "import tensorflow as tf\n",
        "print(tf.__version__)"
      ],
      "execution_count": 16,
      "outputs": [
        {
          "output_type": "stream",
          "text": [
            "`%tensorflow_version` only switches the major version: `1.x` or `2.x`.\n",
            "You set: `2.x  # Colab only.`. This will be interpreted as: `2.x`.\n",
            "\n",
            "\n",
            "TensorFlow is already loaded. Please restart the runtime to change versions.\n",
            "2.0.0-beta1\n"
          ],
          "name": "stdout"
        }
      ]
    },
    {
      "cell_type": "code",
      "metadata": {
        "id": "BpS1heGEbHT2",
        "colab_type": "code",
        "colab": {}
      },
      "source": [
        "# Other imports\n",
        "import pandas as pd\n",
        "import numpy as np\n",
        "import matplotlib.pyplot as plt"
      ],
      "execution_count": 0,
      "outputs": []
    },
    {
      "cell_type": "code",
      "metadata": {
        "id": "hTfppzoWbLCa",
        "colab_type": "code",
        "colab": {
          "base_uri": "https://localhost:8080/",
          "height": 204
        },
        "outputId": "fbdcbdb7-ce4a-43dc-a2ea-8e294d40bab3"
      },
      "source": [
        "# Get the data\n",
        "!wget https://raw.githubusercontent.com/lazyprogrammer/machine_learning_examples/master/tf2.0/moore.csv"
      ],
      "execution_count": 18,
      "outputs": [
        {
          "output_type": "stream",
          "text": [
            "--2019-08-16 13:19:48--  https://raw.githubusercontent.com/lazyprogrammer/machine_learning_examples/master/tf2.0/moore.csv\n",
            "Resolving raw.githubusercontent.com (raw.githubusercontent.com)... 151.101.0.133, 151.101.64.133, 151.101.128.133, ...\n",
            "Connecting to raw.githubusercontent.com (raw.githubusercontent.com)|151.101.0.133|:443... connected.\n",
            "HTTP request sent, awaiting response... 200 OK\n",
            "Length: 2302 (2.2K) [text/plain]\n",
            "Saving to: ‘moore.csv.1’\n",
            "\n",
            "\rmoore.csv.1           0%[                    ]       0  --.-KB/s               \rmoore.csv.1         100%[===================>]   2.25K  --.-KB/s    in 0s      \n",
            "\n",
            "2019-08-16 13:19:48 (42.3 MB/s) - ‘moore.csv.1’ saved [2302/2302]\n",
            "\n"
          ],
          "name": "stdout"
        }
      ]
    },
    {
      "cell_type": "code",
      "metadata": {
        "id": "e17HSwBebU7l",
        "colab_type": "code",
        "colab": {}
      },
      "source": [
        "# Load in the data\n",
        "data = pd.read_csv('moore.csv', header=None).values\n",
        "X = data[:, 0].reshape(-1, 1) # make it a 2-D array of size N x D where D = 1\n",
        "Y = data[:, 1]"
      ],
      "execution_count": 0,
      "outputs": []
    },
    {
      "cell_type": "code",
      "metadata": {
        "id": "i_N2k1U1bqx1",
        "colab_type": "code",
        "colab": {
          "base_uri": "https://localhost:8080/",
          "height": 293
        },
        "outputId": "c2e22196-fdd6-4327-f719-78a6e3c4d25c"
      },
      "source": [
        "# plot the data - it is exponential !\n",
        "plt.scatter(X, Y)"
      ],
      "execution_count": 20,
      "outputs": [
        {
          "output_type": "execute_result",
          "data": {
            "text/plain": [
              "<matplotlib.collections.PathCollection at 0x7fe65a56bb00>"
            ]
          },
          "metadata": {
            "tags": []
          },
          "execution_count": 20
        },
        {
          "output_type": "display_data",
          "data": {
            "image/png": "[encoded data removed]",
            "text/plain": [
              "<Figure size 432x288 with 1 Axes>"
            ]
          },
          "metadata": {
            "tags": []
          }
        }
      ]
    },
    {
      "cell_type": "code",
      "metadata": {
        "id": "rD_4L4iub1Ex",
        "colab_type": "code",
        "colab": {
          "base_uri": "https://localhost:8080/",
          "height": 286
        },
        "outputId": "42cf0528-7e31-4503-f262-2a5cfc065962"
      },
      "source": [
        "# Since we cant a linear model, let's take the log\n",
        "Y = np.log(Y)\n",
        "plt.scatter(X, Y)"
      ],
      "execution_count": 21,
      "outputs": [
        {
          "output_type": "execute_result",
          "data": {
            "text/plain": [
              "<matplotlib.collections.PathCollection at 0x7fe65a547518>"
            ]
          },
          "metadata": {
            "tags": []
          },
          "execution_count": 21
        },
        {
          "output_type": "display_data",
          "data": {
            "image/png": "[encoded data removed]",
            "text/plain": [
              "<Figure size 432x288 with 1 Axes>"
            ]
          },
          "metadata": {
            "tags": []
          }
        }
      ]
    },
    {
      "cell_type": "code",
      "metadata": {
        "id": "gYmURX7zb-YZ",
        "colab_type": "code",
        "colab": {
          "base_uri": "https://localhost:8080/",
          "height": 286
        },
        "outputId": "553934ef-0965-4334-8079-a585c6da74f1"
      },
      "source": [
        "# Let's also center the X data so the values are not too large\n",
        "# We could scale it too (divide by sigma) but then we'd have to reverse the transformation later\n",
        "X = X - X.mean()\n",
        "plt.scatter(X, Y)"
      ],
      "execution_count": 22,
      "outputs": [
        {
          "output_type": "execute_result",
          "data": {
            "text/plain": [
              "<matplotlib.collections.PathCollection at 0x7fe65a4a7160>"
            ]
          },
          "metadata": {
            "tags": []
          },
          "execution_count": 22
        },
        {
          "output_type": "display_data",
          "data": {
            "image/png": "[encoded data removed]",
            "text/plain": [
              "<Figure size 432x288 with 1 Axes>"
            ]
          },
          "metadata": {
            "tags": []
          }
        }
      ]
    },
    {
      "cell_type": "code",
      "metadata": {
        "id": "_Ecr25Xqcc6P",
        "colab_type": "code",
        "colab": {
          "base_uri": "https://localhost:8080/",
          "height": 1000
        },
        "outputId": "e51e7d2c-bb57-47f4-bc17-794c3b6d08c7"
      },
      "source": [
        "# Now create our Tensorflow model\n",
        "model = tf.keras.models.Sequential([\n",
        "  tf.keras.layers.Input(shape=(1,)),\n",
        "  tf.keras.layers.Dense(1)\n",
        "])\n",
        "\n",
        "model.compile(optimizer=tf.keras.optimizers.SGD(0.001, 0.9), loss='mse')\n",
        "# model.compile(optimizer='adam', loss='mse')\n",
        "\n",
        "\n",
        "# learning rate scheduler\n",
        "def schedule(epoch, lr):\n",
        "  if epoch >= 50:\n",
        "    return 0.0001\n",
        "  return 0.001\n",
        " \n",
        "\n",
        "scheduler = tf.keras.callbacks.LearningRateScheduler(schedule)\n",
        "\n",
        "\n",
        "# Train the model\n",
        "r = model.fit(X, Y, epochs=200, callbacks=[scheduler])"
      ],
      "execution_count": 23,
      "outputs": [
        {
          "output_type": "stream",
          "text": [
            "Train on 162 samples\n",
            "Epoch 1/200\n",
            "162/162 [==============================] - 0s 309us/sample - loss: 544.9381\n",
            "Epoch 2/200\n",
            "162/162 [==============================] - 0s 76us/sample - loss: 477.6210\n",
            "Epoch 3/200\n",
            "162/162 [==============================] - 0s 64us/sample - loss: 292.9624\n",
            "Epoch 4/200\n",
            "162/162 [==============================] - 0s 74us/sample - loss: 262.8476\n",
            "Epoch 5/200\n",
            "162/162 [==============================] - 0s 85us/sample - loss: 228.4709\n",
            "Epoch 6/200\n",
            "162/162 [==============================] - 0s 64us/sample - loss: 135.9795\n",
            "Epoch 7/200\n",
            "162/162 [==============================] - 0s 67us/sample - loss: 110.7791\n",
            "Epoch 8/200\n",
            "162/162 [==============================] - 0s 71us/sample - loss: 72.1978\n",
            "Epoch 9/200\n",
            "162/162 [==============================] - 0s 70us/sample - loss: 65.0881\n",
            "Epoch 10/200\n",
            "162/162 [==============================] - 0s 65us/sample - loss: 32.8043\n",
            "Epoch 11/200\n",
            "162/162 [==============================] - 0s 72us/sample - loss: 25.4849\n",
            "Epoch 12/200\n",
            "162/162 [==============================] - 0s 99us/sample - loss: 24.3526\n",
            "Epoch 13/200\n",
            "162/162 [==============================] - 0s 81us/sample - loss: 26.4251\n",
            "Epoch 14/200\n",
            "162/162 [==============================] - 0s 77us/sample - loss: 17.4683\n",
            "Epoch 15/200\n",
            "162/162 [==============================] - 0s 91us/sample - loss: 9.6432\n",
            "Epoch 16/200\n",
            "162/162 [==============================] - 0s 64us/sample - loss: 6.9199\n",
            "Epoch 17/200\n",
            "162/162 [==============================] - 0s 70us/sample - loss: 6.1270\n",
            "Epoch 18/200\n",
            "162/162 [==============================] - 0s 73us/sample - loss: 3.8309\n",
            "Epoch 19/200\n",
            "162/162 [==============================] - 0s 68us/sample - loss: 3.0160\n",
            "Epoch 20/200\n",
            "162/162 [==============================] - 0s 93us/sample - loss: 3.1285\n",
            "Epoch 21/200\n",
            "162/162 [==============================] - 0s 92us/sample - loss: 3.0591\n",
            "Epoch 22/200\n",
            "162/162 [==============================] - 0s 87us/sample - loss: 1.9262\n",
            "Epoch 23/200\n",
            "162/162 [==============================] - 0s 72us/sample - loss: 1.7259\n",
            "Epoch 24/200\n",
            "162/162 [==============================] - 0s 105us/sample - loss: 1.5077\n",
            "Epoch 25/200\n",
            "162/162 [==============================] - 0s 80us/sample - loss: 1.2307\n",
            "Epoch 26/200\n",
            "162/162 [==============================] - 0s 77us/sample - loss: 1.5067\n",
            "Epoch 27/200\n",
            "162/162 [==============================] - 0s 75us/sample - loss: 1.5103\n",
            "Epoch 28/200\n",
            "162/162 [==============================] - 0s 79us/sample - loss: 1.5608\n",
            "Epoch 29/200\n",
            "162/162 [==============================] - 0s 71us/sample - loss: 1.3239\n",
            "Epoch 30/200\n",
            "162/162 [==============================] - 0s 72us/sample - loss: 2.1079\n",
            "Epoch 31/200\n",
            "162/162 [==============================] - 0s 71us/sample - loss: 2.1488\n",
            "Epoch 32/200\n",
            "162/162 [==============================] - 0s 72us/sample - loss: 1.9732\n",
            "Epoch 33/200\n",
            "162/162 [==============================] - 0s 72us/sample - loss: 1.8907\n",
            "Epoch 34/200\n",
            "162/162 [==============================] - 0s 86us/sample - loss: 1.3417\n",
            "Epoch 35/200\n",
            "162/162 [==============================] - 0s 75us/sample - loss: 1.1366\n",
            "Epoch 36/200\n",
            "162/162 [==============================] - 0s 74us/sample - loss: 0.9944\n",
            "Epoch 37/200\n",
            "162/162 [==============================] - 0s 81us/sample - loss: 0.9289\n",
            "Epoch 38/200\n",
            "162/162 [==============================] - 0s 73us/sample - loss: 0.8997\n",
            "Epoch 39/200\n",
            "162/162 [==============================] - 0s 73us/sample - loss: 0.9135\n",
            "Epoch 40/200\n",
            "162/162 [==============================] - 0s 99us/sample - loss: 0.9218\n",
            "Epoch 41/200\n",
            "162/162 [==============================] - 0s 77us/sample - loss: 0.8938\n",
            "Epoch 42/200\n",
            "162/162 [==============================] - 0s 70us/sample - loss: 0.8882\n",
            "Epoch 43/200\n",
            "162/162 [==============================] - 0s 69us/sample - loss: 0.9538\n",
            "Epoch 44/200\n",
            "162/162 [==============================] - 0s 79us/sample - loss: 0.9466\n",
            "Epoch 45/200\n",
            "162/162 [==============================] - 0s 73us/sample - loss: 0.9924\n",
            "Epoch 46/200\n",
            "162/162 [==============================] - 0s 71us/sample - loss: 0.9044\n",
            "Epoch 47/200\n",
            "162/162 [==============================] - 0s 65us/sample - loss: 0.9258\n",
            "Epoch 48/200\n",
            "162/162 [==============================] - 0s 75us/sample - loss: 0.8857\n",
            "Epoch 49/200\n",
            "162/162 [==============================] - 0s 64us/sample - loss: 0.8804\n",
            "Epoch 50/200\n",
            "162/162 [==============================] - 0s 89us/sample - loss: 0.8881\n",
            "Epoch 51/200\n",
            "162/162 [==============================] - 0s 80us/sample - loss: 0.9388\n",
            "Epoch 52/200\n",
            "162/162 [==============================] - 0s 71us/sample - loss: 0.9886\n",
            "Epoch 53/200\n",
            "162/162 [==============================] - 0s 85us/sample - loss: 0.9004\n",
            "Epoch 54/200\n",
            "162/162 [==============================] - 0s 73us/sample - loss: 0.8715\n",
            "Epoch 55/200\n",
            "162/162 [==============================] - 0s 104us/sample - loss: 0.8739\n",
            "Epoch 56/200\n",
            "162/162 [==============================] - 0s 75us/sample - loss: 0.8694\n",
            "Epoch 57/200\n",
            "162/162 [==============================] - 0s 90us/sample - loss: 0.8971\n",
            "Epoch 58/200\n",
            "162/162 [==============================] - 0s 84us/sample - loss: 0.8934\n",
            "Epoch 59/200\n",
            "162/162 [==============================] - 0s 72us/sample - loss: 0.8738\n",
            "Epoch 60/200\n",
            "162/162 [==============================] - 0s 73us/sample - loss: 0.8761\n",
            "Epoch 61/200\n",
            "162/162 [==============================] - 0s 62us/sample - loss: 0.8773\n",
            "Epoch 62/200\n",
            "162/162 [==============================] - 0s 80us/sample - loss: 0.8759\n",
            "Epoch 63/200\n",
            "162/162 [==============================] - 0s 79us/sample - loss: 0.8736\n",
            "Epoch 64/200\n",
            "162/162 [==============================] - 0s 86us/sample - loss: 0.8772\n",
            "Epoch 65/200\n",
            "162/162 [==============================] - 0s 82us/sample - loss: 0.8750\n",
            "Epoch 66/200\n",
            "162/162 [==============================] - 0s 72us/sample - loss: 0.8742\n",
            "Epoch 67/200\n",
            "162/162 [==============================] - 0s 73us/sample - loss: 0.8735\n",
            "Epoch 68/200\n",
            "162/162 [==============================] - 0s 70us/sample - loss: 0.8714\n",
            "Epoch 69/200\n",
            "162/162 [==============================] - 0s 89us/sample - loss: 0.8710\n",
            "Epoch 70/200\n",
            "162/162 [==============================] - 0s 115us/sample - loss: 0.8740\n",
            "Epoch 71/200\n",
            "162/162 [==============================] - 0s 70us/sample - loss: 0.8752\n",
            "Epoch 72/200\n",
            "162/162 [==============================] - 0s 66us/sample - loss: 0.8706\n",
            "Epoch 73/200\n",
            "162/162 [==============================] - 0s 78us/sample - loss: 0.8881\n",
            "Epoch 74/200\n",
            "162/162 [==============================] - 0s 83us/sample - loss: 0.8836\n",
            "Epoch 75/200\n",
            "162/162 [==============================] - 0s 72us/sample - loss: 0.9027\n",
            "Epoch 76/200\n",
            "162/162 [==============================] - 0s 87us/sample - loss: 0.8870\n",
            "Epoch 77/200\n",
            "162/162 [==============================] - 0s 74us/sample - loss: 0.8853\n",
            "Epoch 78/200\n",
            "162/162 [==============================] - 0s 80us/sample - loss: 0.8759\n",
            "Epoch 79/200\n",
            "162/162 [==============================] - 0s 72us/sample - loss: 0.8711\n",
            "Epoch 80/200\n",
            "162/162 [==============================] - 0s 85us/sample - loss: 0.8777\n",
            "Epoch 81/200\n",
            "162/162 [==============================] - 0s 81us/sample - loss: 0.9443\n",
            "Epoch 82/200\n",
            "162/162 [==============================] - 0s 74us/sample - loss: 0.9283\n",
            "Epoch 83/200\n",
            "162/162 [==============================] - 0s 77us/sample - loss: 0.8760\n",
            "Epoch 84/200\n",
            "162/162 [==============================] - 0s 71us/sample - loss: 0.8876\n",
            "Epoch 85/200\n",
            "162/162 [==============================] - 0s 81us/sample - loss: 0.8856\n",
            "Epoch 86/200\n",
            "162/162 [==============================] - 0s 73us/sample - loss: 0.8805\n",
            "Epoch 87/200\n",
            "162/162 [==============================] - 0s 67us/sample - loss: 0.8738\n",
            "Epoch 88/200\n",
            "162/162 [==============================] - 0s 121us/sample - loss: 0.8733\n",
            "Epoch 89/200\n",
            "162/162 [==============================] - 0s 72us/sample - loss: 0.8711\n",
            "Epoch 90/200\n",
            "162/162 [==============================] - 0s 83us/sample - loss: 0.8700\n",
            "Epoch 91/200\n",
            "162/162 [==============================] - 0s 84us/sample - loss: 0.8701\n",
            "Epoch 92/200\n",
            "162/162 [==============================] - 0s 68us/sample - loss: 0.8923\n",
            "Epoch 93/200\n",
            "162/162 [==============================] - 0s 79us/sample - loss: 0.8892\n",
            "Epoch 94/200\n",
            "162/162 [==============================] - 0s 100us/sample - loss: 0.9057\n",
            "Epoch 95/200\n",
            "162/162 [==============================] - 0s 67us/sample - loss: 0.9219\n",
            "Epoch 96/200\n",
            "162/162 [==============================] - 0s 74us/sample - loss: 0.8723\n",
            "Epoch 97/200\n",
            "162/162 [==============================] - 0s 82us/sample - loss: 0.8732\n",
            "Epoch 98/200\n",
            "162/162 [==============================] - 0s 81us/sample - loss: 0.8776\n",
            "Epoch 99/200\n",
            "162/162 [==============================] - 0s 95us/sample - loss: 0.8773\n",
            "Epoch 100/200\n",
            "162/162 [==============================] - 0s 77us/sample - loss: 0.8728\n",
            "Epoch 101/200\n",
            "162/162 [==============================] - 0s 67us/sample - loss: 0.8723\n",
            "Epoch 102/200\n",
            "162/162 [==============================] - 0s 91us/sample - loss: 0.8793\n",
            "Epoch 103/200\n",
            "162/162 [==============================] - 0s 73us/sample - loss: 0.8773\n",
            "Epoch 104/200\n",
            "162/162 [==============================] - 0s 69us/sample - loss: 0.8699\n",
            "Epoch 105/200\n",
            "162/162 [==============================] - 0s 65us/sample - loss: 0.8750\n",
            "Epoch 106/200\n",
            "162/162 [==============================] - 0s 97us/sample - loss: 0.8707\n",
            "Epoch 107/200\n",
            "162/162 [==============================] - 0s 75us/sample - loss: 0.8753\n",
            "Epoch 108/200\n",
            "162/162 [==============================] - 0s 80us/sample - loss: 0.8803\n",
            "Epoch 109/200\n",
            "162/162 [==============================] - 0s 67us/sample - loss: 0.8710\n",
            "Epoch 110/200\n",
            "162/162 [==============================] - 0s 77us/sample - loss: 0.8755\n",
            "Epoch 111/200\n",
            "162/162 [==============================] - 0s 110us/sample - loss: 0.8797\n",
            "Epoch 112/200\n",
            "162/162 [==============================] - 0s 74us/sample - loss: 0.8783\n",
            "Epoch 113/200\n",
            "162/162 [==============================] - 0s 76us/sample - loss: 0.8703\n",
            "Epoch 114/200\n",
            "162/162 [==============================] - 0s 66us/sample - loss: 0.8724\n",
            "Epoch 115/200\n",
            "162/162 [==============================] - 0s 86us/sample - loss: 0.8722\n",
            "Epoch 116/200\n",
            "162/162 [==============================] - 0s 70us/sample - loss: 0.8792\n",
            "Epoch 117/200\n",
            "162/162 [==============================] - 0s 65us/sample - loss: 0.8769\n",
            "Epoch 118/200\n",
            "162/162 [==============================] - 0s 77us/sample - loss: 0.8805\n",
            "Epoch 119/200\n",
            "162/162 [==============================] - 0s 56us/sample - loss: 0.8739\n",
            "Epoch 120/200\n",
            "162/162 [==============================] - 0s 86us/sample - loss: 0.8789\n",
            "Epoch 121/200\n",
            "162/162 [==============================] - 0s 85us/sample - loss: 0.8863\n",
            "Epoch 122/200\n",
            "162/162 [==============================] - 0s 70us/sample - loss: 0.8738\n",
            "Epoch 123/200\n",
            "162/162 [==============================] - 0s 73us/sample - loss: 0.8826\n",
            "Epoch 124/200\n",
            "162/162 [==============================] - 0s 70us/sample - loss: 0.8747\n",
            "Epoch 125/200\n",
            "162/162 [==============================] - 0s 90us/sample - loss: 0.8829\n",
            "Epoch 126/200\n",
            "162/162 [==============================] - 0s 68us/sample - loss: 0.8768\n",
            "Epoch 127/200\n",
            "162/162 [==============================] - 0s 71us/sample - loss: 0.8989\n",
            "Epoch 128/200\n",
            "162/162 [==============================] - 0s 77us/sample - loss: 0.9099\n",
            "Epoch 129/200\n",
            "162/162 [==============================] - 0s 93us/sample - loss: 0.8688\n",
            "Epoch 130/200\n",
            "162/162 [==============================] - 0s 84us/sample - loss: 0.8820\n",
            "Epoch 131/200\n",
            "162/162 [==============================] - 0s 95us/sample - loss: 0.9024\n",
            "Epoch 132/200\n",
            "162/162 [==============================] - 0s 74us/sample - loss: 0.8754\n",
            "Epoch 133/200\n",
            "162/162 [==============================] - 0s 81us/sample - loss: 0.9127\n",
            "Epoch 134/200\n",
            "162/162 [==============================] - 0s 88us/sample - loss: 0.9414\n",
            "Epoch 135/200\n",
            "162/162 [==============================] - 0s 81us/sample - loss: 0.8682\n",
            "Epoch 136/200\n",
            "162/162 [==============================] - 0s 90us/sample - loss: 0.8840\n",
            "Epoch 137/200\n",
            "162/162 [==============================] - 0s 83us/sample - loss: 0.8919\n",
            "Epoch 138/200\n",
            "162/162 [==============================] - 0s 71us/sample - loss: 0.8699\n",
            "Epoch 139/200\n",
            "162/162 [==============================] - 0s 79us/sample - loss: 0.9420\n",
            "Epoch 140/200\n",
            "162/162 [==============================] - 0s 99us/sample - loss: 0.8913\n",
            "Epoch 141/200\n",
            "162/162 [==============================] - 0s 79us/sample - loss: 0.8781\n",
            "Epoch 142/200\n",
            "162/162 [==============================] - 0s 86us/sample - loss: 0.8956\n",
            "Epoch 143/200\n",
            "162/162 [==============================] - 0s 103us/sample - loss: 0.8883\n",
            "Epoch 144/200\n",
            "162/162 [==============================] - 0s 74us/sample - loss: 0.8701\n",
            "Epoch 145/200\n",
            "162/162 [==============================] - 0s 75us/sample - loss: 0.8824\n",
            "Epoch 146/200\n",
            "162/162 [==============================] - 0s 82us/sample - loss: 0.8752\n",
            "Epoch 147/200\n",
            "162/162 [==============================] - 0s 77us/sample - loss: 0.8767\n",
            "Epoch 148/200\n",
            "162/162 [==============================] - 0s 67us/sample - loss: 0.8763\n",
            "Epoch 149/200\n",
            "162/162 [==============================] - 0s 81us/sample - loss: 0.8821\n",
            "Epoch 150/200\n",
            "162/162 [==============================] - 0s 87us/sample - loss: 0.8795\n",
            "Epoch 151/200\n",
            "162/162 [==============================] - 0s 77us/sample - loss: 0.8733\n",
            "Epoch 152/200\n",
            "162/162 [==============================] - 0s 73us/sample - loss: 0.8829\n",
            "Epoch 153/200\n",
            "162/162 [==============================] - 0s 70us/sample - loss: 0.8861\n",
            "Epoch 154/200\n",
            "162/162 [==============================] - 0s 89us/sample - loss: 0.8754\n",
            "Epoch 155/200\n",
            "162/162 [==============================] - 0s 98us/sample - loss: 0.8964\n",
            "Epoch 156/200\n",
            "162/162 [==============================] - 0s 75us/sample - loss: 0.9005\n",
            "Epoch 157/200\n",
            "162/162 [==============================] - 0s 66us/sample - loss: 0.8758\n",
            "Epoch 158/200\n",
            "162/162 [==============================] - 0s 158us/sample - loss: 0.8686\n",
            "Epoch 159/200\n",
            "162/162 [==============================] - 0s 103us/sample - loss: 0.8784\n",
            "Epoch 160/200\n",
            "162/162 [==============================] - 0s 75us/sample - loss: 0.8723\n",
            "Epoch 161/200\n",
            "162/162 [==============================] - 0s 78us/sample - loss: 0.8747\n",
            "Epoch 162/200\n",
            "162/162 [==============================] - 0s 78us/sample - loss: 0.8740\n",
            "Epoch 163/200\n",
            "162/162 [==============================] - 0s 71us/sample - loss: 0.8724\n",
            "Epoch 164/200\n",
            "162/162 [==============================] - 0s 70us/sample - loss: 0.8710\n",
            "Epoch 165/200\n",
            "162/162 [==============================] - 0s 57us/sample - loss: 0.8706\n",
            "Epoch 166/200\n",
            "162/162 [==============================] - 0s 65us/sample - loss: 0.8715\n",
            "Epoch 167/200\n",
            "162/162 [==============================] - 0s 111us/sample - loss: 0.8713\n",
            "Epoch 168/200\n",
            "162/162 [==============================] - 0s 102us/sample - loss: 0.8842\n",
            "Epoch 169/200\n",
            "162/162 [==============================] - 0s 73us/sample - loss: 0.9386\n",
            "Epoch 170/200\n",
            "162/162 [==============================] - 0s 67us/sample - loss: 0.9075\n",
            "Epoch 171/200\n",
            "162/162 [==============================] - 0s 75us/sample - loss: 0.8623\n",
            "Epoch 172/200\n",
            "162/162 [==============================] - 0s 90us/sample - loss: 0.9088\n",
            "Epoch 173/200\n",
            "162/162 [==============================] - 0s 120us/sample - loss: 0.9024\n",
            "Epoch 174/200\n",
            "162/162 [==============================] - 0s 71us/sample - loss: 0.8767\n",
            "Epoch 175/200\n",
            "162/162 [==============================] - 0s 68us/sample - loss: 0.8722\n",
            "Epoch 176/200\n",
            "162/162 [==============================] - 0s 79us/sample - loss: 0.8716\n",
            "Epoch 177/200\n",
            "162/162 [==============================] - 0s 79us/sample - loss: 0.8738\n",
            "Epoch 178/200\n",
            "162/162 [==============================] - 0s 67us/sample - loss: 0.8730\n",
            "Epoch 179/200\n",
            "162/162 [==============================] - 0s 70us/sample - loss: 0.8772\n",
            "Epoch 180/200\n",
            "162/162 [==============================] - 0s 60us/sample - loss: 0.8729\n",
            "Epoch 181/200\n",
            "162/162 [==============================] - 0s 102us/sample - loss: 0.8709\n",
            "Epoch 182/200\n",
            "162/162 [==============================] - 0s 132us/sample - loss: 0.8707\n",
            "Epoch 183/200\n",
            "162/162 [==============================] - 0s 83us/sample - loss: 0.8715\n",
            "Epoch 184/200\n",
            "162/162 [==============================] - 0s 85us/sample - loss: 0.8714\n",
            "Epoch 185/200\n",
            "162/162 [==============================] - 0s 80us/sample - loss: 0.8685\n",
            "Epoch 186/200\n",
            "162/162 [==============================] - 0s 86us/sample - loss: 0.8824\n",
            "Epoch 187/200\n",
            "162/162 [==============================] - 0s 74us/sample - loss: 0.8707\n",
            "Epoch 188/200\n",
            "162/162 [==============================] - 0s 73us/sample - loss: 0.8769\n",
            "Epoch 189/200\n",
            "162/162 [==============================] - 0s 74us/sample - loss: 0.8760\n",
            "Epoch 190/200\n",
            "162/162 [==============================] - 0s 74us/sample - loss: 0.8863\n",
            "Epoch 191/200\n",
            "162/162 [==============================] - 0s 94us/sample - loss: 0.8721\n",
            "Epoch 192/200\n",
            "162/162 [==============================] - 0s 89us/sample - loss: 0.8809\n",
            "Epoch 193/200\n",
            "162/162 [==============================] - 0s 112us/sample - loss: 0.9142\n",
            "Epoch 194/200\n",
            "162/162 [==============================] - 0s 81us/sample - loss: 0.8960\n",
            "Epoch 195/200\n",
            "162/162 [==============================] - 0s 69us/sample - loss: 0.8687\n",
            "Epoch 196/200\n",
            "162/162 [==============================] - 0s 87us/sample - loss: 0.9243\n",
            "Epoch 197/200\n",
            "162/162 [==============================] - 0s 63us/sample - loss: 0.9663\n",
            "Epoch 198/200\n",
            "162/162 [==============================] - 0s 71us/sample - loss: 0.8913\n",
            "Epoch 199/200\n",
            "162/162 [==============================] - 0s 74us/sample - loss: 0.8785\n",
            "Epoch 200/200\n",
            "162/162 [==============================] - 0s 72us/sample - loss: 0.8809\n"
          ],
          "name": "stdout"
        }
      ]
    },
    {
      "cell_type": "code",
      "metadata": {
        "id": "S8mtPgK0dbnj",
        "colab_type": "code",
        "colab": {
          "base_uri": "https://localhost:8080/",
          "height": 286
        },
        "outputId": "a93c9585-45aa-4f3c-a57a-9a647adfd872"
      },
      "source": [
        "# Plot the loss\n",
        "plt.plot(r.history['loss'], label='loss')"
      ],
      "execution_count": 24,
      "outputs": [
        {
          "output_type": "execute_result",
          "data": {
            "text/plain": [
              "[<matplotlib.lines.Line2D at 0x7fe65a251c88>]"
            ]
          },
          "metadata": {
            "tags": []
          },
          "execution_count": 24
        },
        {
          "output_type": "display_data",
          "data": {
            "image/png": "[encoded data removed]",
            "text/plain": [
              "<Figure size 432x288 with 1 Axes>"
            ]
          },
          "metadata": {
            "tags": []
          }
        }
      ]
    },
    {
      "cell_type": "code",
      "metadata": {
        "id": "B0pXk6swdvtw",
        "colab_type": "code",
        "colab": {
          "base_uri": "https://localhost:8080/",
          "height": 51
        },
        "outputId": "fe271c1e-50c6-4c4d-cb5f-efea7745e5c5"
      },
      "source": [
        "# Get the slope of the line\n",
        "# The smlope of the line is related to the doubling rate of transisotr count\n",
        "print(model.layers) # note: there is only 1 layer, the \"Input\" layer doesn't count\n",
        "print(model.layers[0].get_weights())"
      ],
      "execution_count": 25,
      "outputs": [
        {
          "output_type": "stream",
          "text": [
            "[<tensorflow.python.keras.layers.core.Dense object at 0x7fe65a454eb8>]\n",
            "[array([[0.34549177]], dtype=float32), array([17.758406], dtype=float32)]\n"
          ],
          "name": "stdout"
        }
      ]
    },
    {
      "cell_type": "code",
      "metadata": {
        "id": "TA8aJe-8eD59",
        "colab_type": "code",
        "colab": {}
      },
      "source": [
        "# The slope of the line is:\n",
        "a = model.layers[0].get_weights()[0][0, 0]"
      ],
      "execution_count": 0,
      "outputs": []
    },
    {
      "cell_type": "markdown",
      "metadata": {
        "id": "5LptW8OvGT7q",
        "colab_type": "text"
      },
      "source": [
        "Our original model for exponential growth is:\n",
        "\n",
        "$$ C = A_0 r^t $$\n",
        "\n",
        "Where $ C $ is transistor the count and $ t $ is the year.\n",
        "\n",
        "$ r $ is the rate of growth. For example, when $ t $ goes from 1 to 2, $ C $ increases by a factor of $ r $. When $ t $ goes from 2 to 3, $ C $ increases by a factor of $ r $ again.\n",
        "\n",
        "When we take the log of both sides, we get:\n",
        "\n",
        "$$ \\log C = \\log r * t + \\log A_0 $$\n",
        "\n",
        "This is our linear equation:\n",
        "\n",
        "$$ \\hat{y} = ax + b $$\n",
        "\n",
        "Where:\n",
        "\n",
        "$$ \\hat{y} = \\log C $$\n",
        "$$ a = \\log r $$\n",
        "$$ x = t $$\n",
        "$$ b = \\log A_0 $$\n",
        "\n",
        "We are interested in $ r $, because that's the rate of growth. Given our regression weights, we know that:\n",
        "\n",
        "$$ a = 0.34188038 $$\n",
        "\n",
        "so that:\n",
        "\n",
        "$$ r = e^{0.34188038} = 1.4076 $$\n",
        "\n",
        "To find the time it takes for transistor count to double, we simply need to find the amount of time it takes for $ C $ to increase to $ 2C $.\n",
        "\n",
        "Let's call the original starting time $ t $, to correspond with the initial transistor count $ C $.\n",
        "\n",
        "Let's call the end time $ t' $, to correspond with the final transistor count $ 2C $.\n",
        "\n",
        "Then we also have:\n",
        "\n",
        "$$ 2C = A_0 r ^ {t'} $$\n",
        "\n",
        "Combine this with our original equation:\n",
        "\n",
        "$$ C = A_0 r^t $$\n",
        "\n",
        "We get (by dividing the 2 equations):\n",
        "\n",
        "$$ 2C/C = (A_0 r ^ {t'}) / A_0 r^t $$\n",
        "\n",
        "Which simplifies to:\n",
        "\n",
        "$$ 2 = r^{(t' - t)} $$\n",
        "\n",
        "Solve for $ t' - t $:\n",
        "\n",
        "$$ t' - t = \\frac{\\log 2}{\\log r} = \\frac{\\log2}{a}$$\n",
        "\n",
        "\n",
        "Important note! We haven't specified what the starting time $ t $ actually is, and we don't have to since we just proved that this holds for any $ t $."
      ]
    },
    {
      "cell_type": "code",
      "metadata": {
        "id": "DuhIYPN5efUq",
        "colab_type": "code",
        "colab": {
          "base_uri": "https://localhost:8080/",
          "height": 34
        },
        "outputId": "e81fc2ad-cb1b-405d-893a-5dd7028896fb"
      },
      "source": [
        "print(\"Time to double: \", np.log(2) / a)"
      ],
      "execution_count": 27,
      "outputs": [
        {
          "output_type": "stream",
          "text": [
            "Time to double:  2.006262513054712\n"
          ],
          "name": "stdout"
        }
      ]
    },
    {
      "cell_type": "code",
      "metadata": {
        "id": "NnrJi-SGfFQc",
        "colab_type": "code",
        "colab": {
          "base_uri": "https://localhost:8080/",
          "height": 51
        },
        "outputId": "3f1289c2-a354-4f0b-a965-f6a172d4e87a"
      },
      "source": [
        "# If you know the analytical solution\n",
        "X = np.array(X).flatten()\n",
        "Y = np.array(Y)\n",
        "denominator = X.dot(X) - X.mean() * X.sum()\n",
        "a = ( X.dot(Y) - Y.mean()*X.sum() ) / denominator\n",
        "b = ( Y.mean() * X.dot(X) - X.mean() * X.dot(Y) ) / denominator\n",
        "print(a, b)\n",
        "print(\"Time to double:\", np.log(2) / a)"
      ],
      "execution_count": 28,
      "outputs": [
        {
          "output_type": "stream",
          "text": [
            "0.341682487387313 17.764939393631764\n",
            "Time to double: 2.0286295205239204\n"
          ],
          "name": "stdout"
        }
      ]
    },
    {
      "cell_type": "markdown",
      "metadata": {
        "id": "pRAg99evfTwt",
        "colab_type": "text"
      },
      "source": [
        "# Part 2: Making Predictions"
      ]
    },
    {
      "cell_type": "code",
      "metadata": {
        "id": "_Pq-Le0hfORZ",
        "colab_type": "code",
        "colab": {
          "base_uri": "https://localhost:8080/",
          "height": 286
        },
        "outputId": "38e6bdc5-7a00-4393-bd77-1adab7a0ff75"
      },
      "source": [
        "# Make predictions\n",
        "Yhat = model.predict(X).flatten()\n",
        "plt.scatter(X, Y)\n",
        "plt.plot(X, Yhat)"
      ],
      "execution_count": 30,
      "outputs": [
        {
          "output_type": "execute_result",
          "data": {
            "text/plain": [
              "[<matplotlib.lines.Line2D at 0x7fe65a20b9e8>]"
            ]
          },
          "metadata": {
            "tags": []
          },
          "execution_count": 30
        },
        {
          "output_type": "display_data",
          "data": {
            "image/png": "[encoded data removed]",
            "text/plain": [
              "<Figure size 432x288 with 1 Axes>"
            ]
          },
          "metadata": {
            "tags": []
          }
        }
      ]
    },
    {
      "cell_type": "code",
      "metadata": {
        "id": "y5b2YLlklnwq",
        "colab_type": "code",
        "colab": {
          "base_uri": "https://localhost:8080/",
          "height": 34
        },
        "outputId": "06f89061-2952-4c87-aa62-1d2387eb76cc"
      },
      "source": [
        "# Manual calculation\n",
        "\n",
        "# Get the weights\n",
        "w, b = model.layers[0].get_weights()\n",
        "\n",
        "# Reshape X because we flattened it again earlier\n",
        "X = X.reshape(-1, 1)\n",
        "\n",
        "# (N x 1) x (1 x 1) + (1) --> (N x 1)\n",
        "Yhat2 = (X.dot(w) + b).flatten()\n",
        "\n",
        "# Don't use == for floating points\n",
        "np.allclose(Yhat, Yhat2)"
      ],
      "execution_count": 31,
      "outputs": [
        {
          "output_type": "execute_result",
          "data": {
            "text/plain": [
              "True"
            ]
          },
          "metadata": {
            "tags": []
          },
          "execution_count": 31
        }
      ]
    },
    {
      "cell_type": "code",
      "metadata": {
        "id": "FT1LA_WRlUgG",
        "colab_type": "code",
        "colab": {}
      },
      "source": [
        ""
      ],
      "execution_count": 0,
      "outputs": []
    }
  ]
}